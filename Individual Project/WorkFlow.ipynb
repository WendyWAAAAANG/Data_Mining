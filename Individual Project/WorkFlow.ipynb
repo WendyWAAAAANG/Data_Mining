{
 "cells": [
  {
   "cell_type": "code",
   "execution_count": 1,
   "metadata": {},
   "outputs": [
    {
     "data": {
      "text/plain": [
       "'\\nData Mining\\nIndividual Project\\n'"
      ]
     },
     "execution_count": 1,
     "metadata": {},
     "output_type": "execute_result"
    }
   ],
   "source": [
    "'''\n",
    "Data Mining\n",
    "Individual Project\n",
    "'''"
   ]
  },
  {
   "cell_type": "code",
   "execution_count": 2,
   "metadata": {},
   "outputs": [
    {
     "data": {
      "text/plain": [
       "'\\nName: Ruoxin WANG\\nStudent ID: 2030026150\\n'"
      ]
     },
     "execution_count": 2,
     "metadata": {},
     "output_type": "execute_result"
    }
   ],
   "source": [
    "'''\n",
    "Name: Ruoxin WANG\n",
    "Student ID: 2030026150\n",
    "'''"
   ]
  },
  {
   "cell_type": "code",
   "execution_count": 3,
   "metadata": {},
   "outputs": [],
   "source": [
    "import numpy as np\n",
    "import pandas as pd\n",
    "import matplotlib.pyplot as plt\n",
    "import seaborn as sns\n",
    "from scipy import stats\n",
    "import statsmodels.api as sm"
   ]
  },
  {
   "cell_type": "code",
   "execution_count": 4,
   "metadata": {},
   "outputs": [],
   "source": [
    "# 0 Import Dataset."
   ]
  },
  {
   "cell_type": "code",
   "execution_count": 5,
   "metadata": {},
   "outputs": [],
   "source": [
    "# import from training and test files.\n",
    "data = pd.read_csv('Dataset/training.csv')\n",
    "data_test = pd.read_csv('Dataset/test.csv')"
   ]
  },
  {
   "cell_type": "code",
   "execution_count": 6,
   "metadata": {},
   "outputs": [],
   "source": [
    "# 1 Exploratory Data Analysis"
   ]
  },
  {
   "cell_type": "code",
   "execution_count": 7,
   "metadata": {},
   "outputs": [
    {
     "name": "stdout",
     "output_type": "stream",
     "text": [
      "Shape of data:  (1330, 7)\n"
     ]
    },
    {
     "data": {
      "text/html": [
       "<div>\n",
       "<style scoped>\n",
       "    .dataframe tbody tr th:only-of-type {\n",
       "        vertical-align: middle;\n",
       "    }\n",
       "\n",
       "    .dataframe tbody tr th {\n",
       "        vertical-align: top;\n",
       "    }\n",
       "\n",
       "    .dataframe thead th {\n",
       "        text-align: right;\n",
       "    }\n",
       "</style>\n",
       "<table border=\"1\" class=\"dataframe\">\n",
       "  <thead>\n",
       "    <tr style=\"text-align: right;\">\n",
       "      <th></th>\n",
       "      <th>buying</th>\n",
       "      <th>maint</th>\n",
       "      <th>doors</th>\n",
       "      <th>persons</th>\n",
       "      <th>lug_boot</th>\n",
       "      <th>safety</th>\n",
       "      <th>evaluation</th>\n",
       "    </tr>\n",
       "  </thead>\n",
       "  <tbody>\n",
       "    <tr>\n",
       "      <th>0</th>\n",
       "      <td>low</td>\n",
       "      <td>vhigh</td>\n",
       "      <td>5more</td>\n",
       "      <td>more</td>\n",
       "      <td>small</td>\n",
       "      <td>low</td>\n",
       "      <td>unacc</td>\n",
       "    </tr>\n",
       "    <tr>\n",
       "      <th>1</th>\n",
       "      <td>high</td>\n",
       "      <td>high</td>\n",
       "      <td>2</td>\n",
       "      <td>2</td>\n",
       "      <td>big</td>\n",
       "      <td>med</td>\n",
       "      <td>unacc</td>\n",
       "    </tr>\n",
       "    <tr>\n",
       "      <th>2</th>\n",
       "      <td>low</td>\n",
       "      <td>vhigh</td>\n",
       "      <td>3</td>\n",
       "      <td>2</td>\n",
       "      <td>med</td>\n",
       "      <td>med</td>\n",
       "      <td>unacc</td>\n",
       "    </tr>\n",
       "    <tr>\n",
       "      <th>3</th>\n",
       "      <td>vhigh</td>\n",
       "      <td>low</td>\n",
       "      <td>5more</td>\n",
       "      <td>2</td>\n",
       "      <td>big</td>\n",
       "      <td>med</td>\n",
       "      <td>unacc</td>\n",
       "    </tr>\n",
       "    <tr>\n",
       "      <th>4</th>\n",
       "      <td>vhigh</td>\n",
       "      <td>vhigh</td>\n",
       "      <td>4</td>\n",
       "      <td>2</td>\n",
       "      <td>big</td>\n",
       "      <td>med</td>\n",
       "      <td>unacc</td>\n",
       "    </tr>\n",
       "  </tbody>\n",
       "</table>\n",
       "</div>"
      ],
      "text/plain": [
       "  buying  maint  doors persons lug_boot safety evaluation\n",
       "0    low  vhigh  5more    more    small    low      unacc\n",
       "1   high   high      2       2      big    med      unacc\n",
       "2    low  vhigh      3       2      med    med      unacc\n",
       "3  vhigh    low  5more       2      big    med      unacc\n",
       "4  vhigh  vhigh      4       2      big    med      unacc"
      ]
     },
     "execution_count": 7,
     "metadata": {},
     "output_type": "execute_result"
    }
   ],
   "source": [
    "print('Shape of data: ', data.shape)\n",
    "data.head()"
   ]
  },
  {
   "cell_type": "code",
   "execution_count": 8,
   "metadata": {},
   "outputs": [],
   "source": [
    "x = data.drop('evaluation', axis = 1)\n",
    "y = data['evaluation']\n",
    "\n",
    "# concate two table, to do same data pre-processing.\n",
    "data_merge = pd.concat([x, data_test])"
   ]
  },
  {
   "cell_type": "code",
   "execution_count": 9,
   "metadata": {},
   "outputs": [
    {
     "name": "stdout",
     "output_type": "stream",
     "text": [
      "<class 'pandas.core.frame.DataFrame'>\n",
      "RangeIndex: 1330 entries, 0 to 1329\n",
      "Data columns (total 6 columns):\n",
      " #   Column    Non-Null Count  Dtype \n",
      "---  ------    --------------  ----- \n",
      " 0   buying    1330 non-null   object\n",
      " 1   maint     1330 non-null   object\n",
      " 2   doors     1330 non-null   object\n",
      " 3   persons   1330 non-null   object\n",
      " 4   lug_boot  1330 non-null   object\n",
      " 5   safety    1330 non-null   object\n",
      "dtypes: object(6)\n",
      "memory usage: 62.5+ KB\n"
     ]
    },
    {
     "data": {
      "text/html": [
       "<div>\n",
       "<style scoped>\n",
       "    .dataframe tbody tr th:only-of-type {\n",
       "        vertical-align: middle;\n",
       "    }\n",
       "\n",
       "    .dataframe tbody tr th {\n",
       "        vertical-align: top;\n",
       "    }\n",
       "\n",
       "    .dataframe thead th {\n",
       "        text-align: right;\n",
       "    }\n",
       "</style>\n",
       "<table border=\"1\" class=\"dataframe\">\n",
       "  <thead>\n",
       "    <tr style=\"text-align: right;\">\n",
       "      <th></th>\n",
       "      <th>count</th>\n",
       "      <th>unique</th>\n",
       "      <th>top</th>\n",
       "      <th>freq</th>\n",
       "    </tr>\n",
       "  </thead>\n",
       "  <tbody>\n",
       "    <tr>\n",
       "      <th>buying</th>\n",
       "      <td>1330</td>\n",
       "      <td>4</td>\n",
       "      <td>high</td>\n",
       "      <td>350</td>\n",
       "    </tr>\n",
       "    <tr>\n",
       "      <th>maint</th>\n",
       "      <td>1330</td>\n",
       "      <td>4</td>\n",
       "      <td>high</td>\n",
       "      <td>342</td>\n",
       "    </tr>\n",
       "    <tr>\n",
       "      <th>doors</th>\n",
       "      <td>1330</td>\n",
       "      <td>4</td>\n",
       "      <td>3</td>\n",
       "      <td>346</td>\n",
       "    </tr>\n",
       "    <tr>\n",
       "      <th>persons</th>\n",
       "      <td>1330</td>\n",
       "      <td>3</td>\n",
       "      <td>2</td>\n",
       "      <td>453</td>\n",
       "    </tr>\n",
       "    <tr>\n",
       "      <th>lug_boot</th>\n",
       "      <td>1330</td>\n",
       "      <td>3</td>\n",
       "      <td>med</td>\n",
       "      <td>456</td>\n",
       "    </tr>\n",
       "    <tr>\n",
       "      <th>safety</th>\n",
       "      <td>1330</td>\n",
       "      <td>3</td>\n",
       "      <td>low</td>\n",
       "      <td>463</td>\n",
       "    </tr>\n",
       "  </tbody>\n",
       "</table>\n",
       "</div>"
      ],
      "text/plain": [
       "         count unique   top freq\n",
       "buying    1330      4  high  350\n",
       "maint     1330      4  high  342\n",
       "doors     1330      4     3  346\n",
       "persons   1330      3     2  453\n",
       "lug_boot  1330      3   med  456\n",
       "safety    1330      3   low  463"
      ]
     },
     "execution_count": 9,
     "metadata": {},
     "output_type": "execute_result"
    }
   ],
   "source": [
    "# get general information of x.\n",
    "x.info()\n",
    "x.describe().T"
   ]
  },
  {
   "cell_type": "code",
   "execution_count": 10,
   "metadata": {},
   "outputs": [
    {
     "name": "stdout",
     "output_type": "stream",
     "text": [
      "Feature in x:  ['buying', 'maint', 'doors', 'persons', 'lug_boot', 'safety', 'evaluation']\n",
      "Labels in y:  ['unacc' 'acc' 'good']\n"
     ]
    }
   ],
   "source": [
    "# find out features include in x and y.\n",
    "# save feature name into list.\n",
    "# and save class values into labels.\n",
    "feature_list = x.columns.values.tolist()\n",
    "total_list = feature_list.append('evaluation')\n",
    "labels = y.unique()\n",
    "print('Feature in x: ', feature_list)\n",
    "print('Labels in y: ', labels)"
   ]
  },
  {
   "cell_type": "code",
   "execution_count": 11,
   "metadata": {},
   "outputs": [],
   "source": [
    "# 2 Feature Engineering"
   ]
  },
  {
   "cell_type": "code",
   "execution_count": 12,
   "metadata": {},
   "outputs": [
    {
     "name": "stdout",
     "output_type": "stream",
     "text": [
      "high     350\n",
      "vhigh    340\n",
      "low      320\n",
      "med      320\n",
      "Name: buying, dtype: int64\n",
      "high     342\n",
      "vhigh    341\n",
      "low      328\n",
      "med      319\n",
      "Name: maint, dtype: int64\n",
      "3        346\n",
      "2        338\n",
      "4        325\n",
      "5more    321\n",
      "Name: doors, dtype: int64\n",
      "2       453\n",
      "more    441\n",
      "4       436\n",
      "Name: persons, dtype: int64\n",
      "med      456\n",
      "small    450\n",
      "big      424\n",
      "Name: lug_boot, dtype: int64\n",
      "low     463\n",
      "med     458\n",
      "high    409\n",
      "Name: safety, dtype: int64\n",
      "unacc    968\n",
      "acc      307\n",
      "good      55\n",
      "Name: evaluation, dtype: int64\n"
     ]
    }
   ],
   "source": [
    "# find out frequency distribution of values in variables.\n",
    "col_names = ['buying', 'maint', 'doors', 'persons', 'lug_boot', 'safety', 'evaluation']\n",
    "\n",
    "for col in col_names:\n",
    "    print(data[col].value_counts())  "
   ]
  },
  {
   "cell_type": "code",
   "execution_count": 13,
   "metadata": {},
   "outputs": [
    {
     "data": {
      "text/plain": [
       "buying        0\n",
       "maint         0\n",
       "doors         0\n",
       "persons       0\n",
       "lug_boot      0\n",
       "safety        0\n",
       "evaluation    0\n",
       "dtype: int64"
      ]
     },
     "execution_count": 13,
     "metadata": {},
     "output_type": "execute_result"
    }
   ],
   "source": [
    "# detect missing value.\n",
    "data.isnull().sum()"
   ]
  },
  {
   "cell_type": "code",
   "execution_count": 14,
   "metadata": {},
   "outputs": [],
   "source": [
    "# test of independence。"
   ]
  },
  {
   "cell_type": "code",
   "execution_count": 15,
   "metadata": {},
   "outputs": [
    {
     "data": {
      "text/html": [
       "<div>\n",
       "<style scoped>\n",
       "    .dataframe tbody tr th:only-of-type {\n",
       "        vertical-align: middle;\n",
       "    }\n",
       "\n",
       "    .dataframe tbody tr th {\n",
       "        vertical-align: top;\n",
       "    }\n",
       "\n",
       "    .dataframe thead th {\n",
       "        text-align: right;\n",
       "    }\n",
       "</style>\n",
       "<table border=\"1\" class=\"dataframe\">\n",
       "  <thead>\n",
       "    <tr style=\"text-align: right;\">\n",
       "      <th>evaluation</th>\n",
       "      <th>acc</th>\n",
       "      <th>good</th>\n",
       "      <th>unacc</th>\n",
       "    </tr>\n",
       "    <tr>\n",
       "      <th>buying</th>\n",
       "      <th></th>\n",
       "      <th></th>\n",
       "      <th></th>\n",
       "    </tr>\n",
       "  </thead>\n",
       "  <tbody>\n",
       "    <tr>\n",
       "      <th>high</th>\n",
       "      <td>88</td>\n",
       "      <td>0</td>\n",
       "      <td>262</td>\n",
       "    </tr>\n",
       "    <tr>\n",
       "      <th>low</th>\n",
       "      <td>65</td>\n",
       "      <td>37</td>\n",
       "      <td>218</td>\n",
       "    </tr>\n",
       "    <tr>\n",
       "      <th>med</th>\n",
       "      <td>94</td>\n",
       "      <td>18</td>\n",
       "      <td>208</td>\n",
       "    </tr>\n",
       "    <tr>\n",
       "      <th>vhigh</th>\n",
       "      <td>60</td>\n",
       "      <td>0</td>\n",
       "      <td>280</td>\n",
       "    </tr>\n",
       "  </tbody>\n",
       "</table>\n",
       "</div>"
      ],
      "text/plain": [
       "evaluation  acc  good  unacc\n",
       "buying                      \n",
       "high         88     0    262\n",
       "low          65    37    218\n",
       "med          94    18    208\n",
       "vhigh        60     0    280"
      ]
     },
     "execution_count": 15,
     "metadata": {},
     "output_type": "execute_result"
    }
   ],
   "source": [
    "table_sm = sm.stats.Table.from_data(data[['buying', 'evaluation']])\n",
    "table_sm.table_orig"
   ]
  },
  {
   "cell_type": "code",
   "execution_count": 16,
   "metadata": {},
   "outputs": [
    {
     "data": {
      "text/html": [
       "<div>\n",
       "<style scoped>\n",
       "    .dataframe tbody tr th:only-of-type {\n",
       "        vertical-align: middle;\n",
       "    }\n",
       "\n",
       "    .dataframe tbody tr th {\n",
       "        vertical-align: top;\n",
       "    }\n",
       "\n",
       "    .dataframe thead th {\n",
       "        text-align: right;\n",
       "    }\n",
       "</style>\n",
       "<table border=\"1\" class=\"dataframe\">\n",
       "  <thead>\n",
       "    <tr style=\"text-align: right;\">\n",
       "      <th>evaluation</th>\n",
       "      <th>acc</th>\n",
       "      <th>good</th>\n",
       "      <th>unacc</th>\n",
       "    </tr>\n",
       "    <tr>\n",
       "      <th>buying</th>\n",
       "      <th></th>\n",
       "      <th></th>\n",
       "      <th></th>\n",
       "    </tr>\n",
       "  </thead>\n",
       "  <tbody>\n",
       "    <tr>\n",
       "      <th>high</th>\n",
       "      <td>80.844102</td>\n",
       "      <td>14.746807</td>\n",
       "      <td>254.909091</td>\n",
       "    </tr>\n",
       "    <tr>\n",
       "      <th>low</th>\n",
       "      <td>73.809166</td>\n",
       "      <td>13.463561</td>\n",
       "      <td>232.727273</td>\n",
       "    </tr>\n",
       "    <tr>\n",
       "      <th>med</th>\n",
       "      <td>73.809166</td>\n",
       "      <td>13.463561</td>\n",
       "      <td>232.727273</td>\n",
       "    </tr>\n",
       "    <tr>\n",
       "      <th>vhigh</th>\n",
       "      <td>78.537566</td>\n",
       "      <td>14.326071</td>\n",
       "      <td>247.636364</td>\n",
       "    </tr>\n",
       "  </tbody>\n",
       "</table>\n",
       "</div>"
      ],
      "text/plain": [
       "evaluation        acc       good       unacc\n",
       "buying                                      \n",
       "high        80.844102  14.746807  254.909091\n",
       "low         73.809166  13.463561  232.727273\n",
       "med         73.809166  13.463561  232.727273\n",
       "vhigh       78.537566  14.326071  247.636364"
      ]
     },
     "execution_count": 16,
     "metadata": {},
     "output_type": "execute_result"
    }
   ],
   "source": [
    "table_sm.fittedvalues"
   ]
  },
  {
   "cell_type": "code",
   "execution_count": 17,
   "metadata": {},
   "outputs": [
    {
     "name": "stdout",
     "output_type": "stream",
     "text": [
      "df          6\n",
      "pvalue      0.0\n",
      "statistic   89.35089448795459\n"
     ]
    }
   ],
   "source": [
    "result  = table_sm.test_nominal_association()\n",
    "print(result)"
   ]
  },
  {
   "cell_type": "code",
   "execution_count": 18,
   "metadata": {},
   "outputs": [
    {
     "data": {
      "text/plain": [
       "(6.590544901879127,\n",
       " 0.36037677854015265,\n",
       " 6,\n",
       " array([[107.63157895, 121.84210526, 120.52631579],\n",
       "        [ 98.40601504, 111.39849624, 110.19548872],\n",
       "        [ 98.40601504, 111.39849624, 110.19548872],\n",
       "        [104.55639098, 118.36090226, 117.08270677]]))"
      ]
     },
     "execution_count": 18,
     "metadata": {},
     "output_type": "execute_result"
    }
   ],
   "source": [
    "import scipy.stats as stats\n",
    "table_sp = pd.crosstab(data['buying'], data['safety'])\n",
    "stats.chi2_contingency(table_sp)\n"
   ]
  },
  {
   "cell_type": "code",
   "execution_count": 20,
   "metadata": {},
   "outputs": [],
   "source": [
    "# # spilt training data into training set and validation set.\n",
    "# # separate training data into training set and validation set.\n",
    "# from sklearn.model_selection import train_test_split\n",
    "# # data_no_header = data_encoder.reset_index(drop = True, inplace = True)\n",
    "# x_train, x_validation, y_train, y_validation = train_test_split(x, y, test_size = 0.3, random_state = 7)\n"
   ]
  },
  {
   "cell_type": "code",
   "execution_count": 21,
   "metadata": {},
   "outputs": [],
   "source": [
    "# 3 Model Training"
   ]
  },
  {
   "cell_type": "code",
   "execution_count": 22,
   "metadata": {},
   "outputs": [
    {
     "name": "stdout",
     "output_type": "stream",
     "text": [
      "-----------KNN Model-----------\n",
      "Done\n",
      "['unacc', 'unacc', 'unacc', 'unacc', 'unacc', 'unacc', 'acc', 'acc', 'unacc', 'unacc', 'unacc', 'good', 'unacc', 'acc', 'unacc', 'unacc', 'acc', 'unacc', 'unacc', 'acc', 'unacc', 'unacc', 'unacc', 'unacc', 'unacc', 'unacc', 'unacc', 'acc', 'acc', 'acc', 'unacc', 'unacc', 'unacc', 'unacc', 'unacc', 'unacc', 'acc', 'acc', 'unacc', 'unacc', 'unacc', 'unacc', 'unacc', 'unacc', 'unacc', 'acc', 'acc', 'acc', 'unacc', 'acc', 'unacc', 'acc', 'unacc', 'unacc', 'unacc', 'acc', 'unacc', 'unacc', 'unacc', 'acc', 'acc', 'acc', 'unacc', 'good', 'unacc', 'acc', 'unacc', 'unacc', 'unacc', 'unacc', 'unacc', 'acc', 'unacc', 'acc', 'unacc', 'good', 'unacc', 'unacc', 'unacc', 'unacc', 'unacc', 'unacc', 'unacc', 'unacc', 'acc', 'acc', 'unacc', 'acc', 'acc', 'acc', 'acc', 'unacc', 'unacc', 'acc', 'acc', 'unacc', 'acc', 'unacc', 'unacc', 'good', 'acc', 'unacc', 'unacc', 'unacc', 'unacc', 'unacc', 'acc', 'unacc', 'unacc', 'unacc', 'unacc', 'unacc', 'unacc', 'good', 'unacc', 'acc', 'unacc', 'unacc', 'unacc', 'unacc', 'unacc', 'unacc', 'unacc', 'unacc', 'unacc', 'acc', 'unacc', 'unacc', 'unacc', 'unacc', 'unacc', 'unacc', 'unacc', 'unacc', 'unacc', 'unacc', 'unacc', 'unacc', 'acc', 'unacc', 'unacc', 'unacc', 'unacc', 'unacc', 'unacc', 'unacc', 'unacc', 'unacc', 'acc', 'unacc', 'unacc', 'unacc', 'unacc', 'unacc', 'acc', 'unacc', 'unacc', 'unacc', 'unacc', 'unacc', 'unacc', 'unacc', 'unacc', 'unacc', 'unacc', 'unacc', 'acc', 'acc', 'unacc', 'acc', 'unacc', 'unacc', 'good', 'unacc', 'unacc', 'unacc', 'unacc', 'unacc', 'unacc', 'acc', 'acc', 'unacc', 'unacc', 'acc', 'acc', 'acc', 'unacc', 'unacc', 'unacc', 'unacc', 'unacc', 'unacc', 'unacc', 'unacc', 'unacc', 'unacc', 'unacc', 'acc', 'unacc', 'unacc', 'unacc', 'unacc', 'unacc', 'unacc', 'unacc', 'unacc', 'unacc', 'unacc', 'unacc', 'acc', 'unacc', 'unacc', 'acc', 'unacc', 'acc', 'acc', 'unacc', 'unacc', 'unacc', 'unacc', 'unacc', 'unacc', 'acc', 'unacc', 'unacc', 'unacc', 'acc', 'acc', 'unacc', 'unacc', 'unacc', 'unacc', 'unacc', 'unacc', 'unacc', 'unacc', 'unacc', 'acc', 'acc', 'unacc', 'acc', 'unacc', 'unacc', 'unacc', 'good', 'unacc', 'acc', 'unacc', 'unacc', 'unacc', 'unacc', 'unacc', 'unacc', 'acc', 'unacc', 'acc', 'acc', 'unacc', 'unacc', 'acc', 'unacc', 'unacc', 'unacc', 'unacc', 'unacc', 'acc', 'acc', 'acc', 'acc', 'unacc', 'unacc', 'acc', 'unacc', 'unacc', 'good', 'unacc', 'unacc', 'unacc', 'unacc', 'acc', 'unacc', 'acc', 'acc', 'unacc', 'unacc', 'unacc', 'acc', 'unacc', 'unacc', 'unacc', 'unacc', 'good', 'acc', 'unacc', 'acc', 'unacc', 'acc', 'acc', 'unacc', 'unacc', 'unacc', 'good', 'unacc', 'acc', 'acc', 'unacc', 'unacc', 'unacc', 'unacc', 'unacc', 'unacc', 'unacc', 'unacc', 'unacc', 'unacc', 'unacc', 'unacc', 'unacc', 'acc', 'unacc', 'unacc', 'unacc', 'acc', 'unacc', 'unacc', 'unacc', 'unacc', 'unacc', 'unacc', 'unacc', 'unacc', 'unacc', 'acc', 'acc', 'unacc', 'unacc', 'unacc', 'unacc', 'unacc', 'acc', 'unacc', 'acc', 'unacc', 'unacc', 'acc', 'unacc', 'unacc', 'acc', 'unacc', 'unacc', 'unacc', 'unacc', 'unacc', 'unacc', 'unacc', 'acc', 'unacc', 'unacc', 'unacc', 'acc', 'unacc', 'unacc', 'unacc', 'unacc', 'acc', 'unacc', 'acc', 'unacc', 'unacc', 'unacc', 'unacc', 'unacc', 'unacc', 'unacc', 'unacc', 'unacc', 'unacc', 'unacc', 'unacc', 'good', 'acc', 'unacc', 'unacc', 'unacc', 'unacc', 'unacc', 'unacc', 'unacc', 'unacc', 'unacc', 'unacc', 'acc', 'unacc', 'unacc', 'acc', 'unacc', 'unacc', 'unacc', 'acc']\n"
     ]
    }
   ],
   "source": [
    "# 3.1 KNN\n",
    "from Model_Code.KNN import KNN\n",
    "\n",
    "# use OneHotEncoder to encode data.\n",
    "from sklearn.preprocessing import OneHotEncoder\n",
    "enc = OneHotEncoder()\n",
    "enc.fit(x)\n",
    "x_encoder = pd.DataFrame(enc.transform(x).toarray())\n",
    "\n",
    "# use train_test_split to separate training set into\n",
    "# training data and validation data.\n",
    "from sklearn.model_selection import train_test_split\n",
    "x_train, x_valid, y_train, y_valid_KNN = train_test_split(x_encoder, y, test_size = 0.3, random_state = 22)\n",
    "# convert data into form that function can be used.\n",
    "x_valid_np = x_valid.to_numpy()\n",
    "\n",
    "# Fit KNN model and use it to predict result.\n",
    "print('-----------KNN Model-----------')\n",
    "res_KNN = []\n",
    "for i in range(x_valid.shape[0]):\n",
    "    res_KNN.append(KNN(x_valid_np[i], x_train.to_numpy(), y_train.to_list(), 5))\n",
    "print('Done')\n",
    "\n",
    "print(res_KNN)"
   ]
  },
  {
   "cell_type": "code",
   "execution_count": 23,
   "metadata": {},
   "outputs": [
    {
     "name": "stdout",
     "output_type": "stream",
     "text": [
      "-----------Bayes Model-----------\n",
      "Done\n",
      "['unacc' 'unacc' 'unacc' 'unacc' 'unacc' 'unacc' 'acc' 'acc' 'unacc'\n",
      " 'unacc' 'unacc' 'good' 'unacc' 'acc' 'unacc' 'unacc' 'acc' 'unacc'\n",
      " 'unacc' 'acc' 'unacc' 'unacc' 'unacc' 'unacc' 'unacc' 'unacc' 'unacc'\n",
      " 'unacc' 'acc' 'unacc' 'unacc' 'unacc' 'unacc' 'unacc' 'unacc' 'unacc'\n",
      " 'acc' 'acc' 'unacc' 'unacc' 'unacc' 'unacc' 'unacc' 'unacc' 'unacc'\n",
      " 'unacc' 'unacc' 'unacc' 'unacc' 'acc' 'unacc' 'acc' 'unacc' 'unacc'\n",
      " 'unacc' 'acc' 'acc' 'unacc' 'acc' 'acc' 'acc' 'acc' 'unacc' 'acc' 'unacc'\n",
      " 'unacc' 'unacc' 'unacc' 'unacc' 'unacc' 'unacc' 'acc' 'unacc' 'acc'\n",
      " 'unacc' 'acc' 'unacc' 'unacc' 'acc' 'unacc' 'good' 'unacc' 'unacc'\n",
      " 'unacc' 'unacc' 'acc' 'unacc' 'unacc' 'acc' 'unacc' 'acc' 'unacc' 'unacc'\n",
      " 'acc' 'acc' 'unacc' 'good' 'unacc' 'unacc' 'acc' 'acc' 'unacc' 'unacc'\n",
      " 'unacc' 'unacc' 'acc' 'acc' 'unacc' 'unacc' 'unacc' 'unacc' 'unacc'\n",
      " 'unacc' 'good' 'unacc' 'acc' 'unacc' 'unacc' 'unacc' 'unacc' 'unacc'\n",
      " 'unacc' 'unacc' 'unacc' 'unacc' 'acc' 'unacc' 'unacc' 'unacc' 'unacc'\n",
      " 'unacc' 'unacc' 'unacc' 'unacc' 'unacc' 'unacc' 'unacc' 'unacc' 'unacc'\n",
      " 'acc' 'unacc' 'acc' 'unacc' 'unacc' 'unacc' 'unacc' 'unacc' 'unacc' 'acc'\n",
      " 'unacc' 'unacc' 'unacc' 'unacc' 'unacc' 'acc' 'unacc' 'unacc' 'unacc'\n",
      " 'unacc' 'unacc' 'unacc' 'unacc' 'unacc' 'unacc' 'unacc' 'unacc' 'acc'\n",
      " 'acc' 'unacc' 'acc' 'unacc' 'unacc' 'good' 'unacc' 'unacc' 'unacc'\n",
      " 'unacc' 'unacc' 'unacc' 'acc' 'unacc' 'unacc' 'unacc' 'acc' 'acc' 'acc'\n",
      " 'unacc' 'unacc' 'unacc' 'unacc' 'unacc' 'unacc' 'unacc' 'unacc' 'unacc'\n",
      " 'unacc' 'acc' 'acc' 'unacc' 'unacc' 'unacc' 'unacc' 'unacc' 'unacc'\n",
      " 'unacc' 'unacc' 'unacc' 'unacc' 'unacc' 'acc' 'unacc' 'unacc' 'unacc'\n",
      " 'unacc' 'unacc' 'unacc' 'unacc' 'unacc' 'unacc' 'unacc' 'unacc' 'unacc'\n",
      " 'acc' 'unacc' 'unacc' 'unacc' 'acc' 'acc' 'unacc' 'unacc' 'acc' 'unacc'\n",
      " 'unacc' 'unacc' 'unacc' 'unacc' 'unacc' 'acc' 'acc' 'unacc' 'acc' 'unacc'\n",
      " 'unacc' 'unacc' 'acc' 'unacc' 'acc' 'unacc' 'unacc' 'unacc' 'unacc'\n",
      " 'unacc' 'unacc' 'unacc' 'unacc' 'acc' 'acc' 'unacc' 'unacc' 'acc' 'unacc'\n",
      " 'unacc' 'acc' 'acc' 'unacc' 'acc' 'acc' 'unacc' 'acc' 'unacc' 'unacc'\n",
      " 'unacc' 'unacc' 'unacc' 'good' 'unacc' 'unacc' 'unacc' 'unacc' 'acc'\n",
      " 'unacc' 'acc' 'acc' 'unacc' 'unacc' 'unacc' 'acc' 'unacc' 'unacc' 'unacc'\n",
      " 'unacc' 'acc' 'acc' 'unacc' 'good' 'unacc' 'acc' 'acc' 'unacc' 'unacc'\n",
      " 'unacc' 'good' 'unacc' 'unacc' 'unacc' 'unacc' 'unacc' 'unacc' 'unacc'\n",
      " 'unacc' 'unacc' 'unacc' 'unacc' 'unacc' 'unacc' 'unacc' 'acc' 'unacc'\n",
      " 'acc' 'unacc' 'unacc' 'unacc' 'acc' 'unacc' 'unacc' 'unacc' 'unacc'\n",
      " 'unacc' 'unacc' 'acc' 'unacc' 'unacc' 'acc' 'unacc' 'unacc' 'unacc'\n",
      " 'unacc' 'unacc' 'unacc' 'unacc' 'unacc' 'acc' 'unacc' 'unacc' 'acc'\n",
      " 'unacc' 'unacc' 'acc' 'unacc' 'unacc' 'unacc' 'unacc' 'unacc' 'unacc'\n",
      " 'unacc' 'acc' 'unacc' 'unacc' 'unacc' 'acc' 'unacc' 'unacc' 'unacc'\n",
      " 'unacc' 'unacc' 'unacc' 'acc' 'unacc' 'unacc' 'unacc' 'unacc' 'unacc'\n",
      " 'unacc' 'acc' 'unacc' 'unacc' 'unacc' 'unacc' 'unacc' 'unacc' 'acc'\n",
      " 'unacc' 'unacc' 'unacc' 'unacc' 'unacc' 'unacc' 'unacc' 'unacc' 'acc'\n",
      " 'unacc' 'unacc' 'unacc' 'unacc' 'acc' 'unacc' 'unacc' 'unacc' 'acc']\n"
     ]
    }
   ],
   "source": [
    "# 3.2 Naive Bayes\n",
    "from Model_Code.Bayes import Bayes\n",
    "import pandas as pd\n",
    "# import importlib\n",
    "# importlib.reload('Model_Code.Bayes')\n",
    "\n",
    "data = pd.read_csv('Dataset/training.csv')\n",
    "b = Bayes(data)\n",
    "y_valid_Bayes = b.spilt_data()\n",
    "res_Bayes = b.get_result()\n",
    "\n",
    "print(res_Bayes)"
   ]
  },
  {
   "cell_type": "code",
   "execution_count": 24,
   "metadata": {},
   "outputs": [
    {
     "name": "stdout",
     "output_type": "stream",
     "text": [
      "-------Perceptron-------\n",
      "1/50 finished\n",
      "2/50 finished\n",
      "3/50 finished\n",
      "4/50 finished\n",
      "5/50 finished\n",
      "6/50 finished\n",
      "7/50 finished\n",
      "8/50 finished\n",
      "9/50 finished\n",
      "10/50 finished\n",
      "11/50 finished\n",
      "12/50 finished\n",
      "13/50 finished\n",
      "14/50 finished\n",
      "15/50 finished\n",
      "16/50 finished\n",
      "17/50 finished\n",
      "18/50 finished\n",
      "19/50 finished\n",
      "20/50 finished\n",
      "21/50 finished\n",
      "22/50 finished\n",
      "23/50 finished\n",
      "24/50 finished\n",
      "25/50 finished\n",
      "26/50 finished\n",
      "27/50 finished\n",
      "28/50 finished\n",
      "29/50 finished\n",
      "30/50 finished\n",
      "31/50 finished\n",
      "32/50 finished\n",
      "33/50 finished\n",
      "34/50 finished\n",
      "35/50 finished\n",
      "36/50 finished\n",
      "37/50 finished\n",
      "38/50 finished\n",
      "39/50 finished\n",
      "40/50 finished\n",
      "41/50 finished\n",
      "42/50 finished\n",
      "43/50 finished\n",
      "44/50 finished\n",
      "45/50 finished\n",
      "46/50 finished\n",
      "47/50 finished\n",
      "48/50 finished\n",
      "49/50 finished\n",
      "50/50 finished\n",
      "Done\n",
      "['unacc', 'unacc', 'unacc', 'unacc', 'unacc', 'unacc', 'acc', 'acc', 'unacc', 'unacc', 'unacc', 'acc', 'acc', 'acc', 'unacc', 'unacc', 'acc', 'unacc', 'unacc', 'acc', 'unacc', 'unacc', 'unacc', 'unacc', 'unacc', 'unacc', 'acc', 'unacc', 'acc', 'acc', 'unacc', 'unacc', 'unacc', 'unacc', 'unacc', 'unacc', 'acc', 'acc', 'unacc', 'unacc', 'unacc', 'unacc', 'unacc', 'acc', 'unacc', 'acc', 'acc', 'acc', 'unacc', 'acc', 'unacc', 'acc', 'unacc', 'unacc', 'unacc', 'acc', 'unacc', 'unacc', 'acc', 'good', 'acc', 'acc', 'unacc', 'acc', 'unacc', 'acc', 'unacc', 'unacc', 'unacc', 'unacc', 'unacc', 'acc', 'unacc', 'acc', 'unacc', 'good', 'unacc', 'unacc', 'acc', 'unacc', 'good', 'unacc', 'unacc', 'unacc', 'acc', 'acc', 'unacc', 'unacc', 'acc', 'acc', 'acc', 'unacc', 'unacc', 'acc', 'acc', 'unacc', 'acc', 'unacc', 'unacc', 'acc', 'acc', 'unacc', 'unacc', 'unacc', 'unacc', 'acc', 'acc', 'unacc', 'unacc', 'unacc', 'unacc', 'unacc', 'unacc', 'good', 'unacc', 'good', 'unacc', 'unacc', 'unacc', 'unacc', 'unacc', 'unacc', 'unacc', 'unacc', 'unacc', 'acc', 'unacc', 'unacc', 'unacc', 'unacc', 'unacc', 'unacc', 'unacc', 'unacc', 'unacc', 'unacc', 'unacc', 'unacc', 'acc', 'acc', 'unacc', 'acc', 'acc', 'unacc', 'unacc', 'unacc', 'unacc', 'unacc', 'unacc', 'unacc', 'unacc', 'unacc', 'unacc', 'unacc', 'acc', 'unacc', 'unacc', 'unacc', 'unacc', 'unacc', 'unacc', 'unacc', 'unacc', 'unacc', 'unacc', 'unacc', 'acc', 'acc', 'unacc', 'acc', 'unacc', 'unacc', 'good', 'unacc', 'unacc', 'unacc', 'unacc', 'unacc', 'unacc', 'acc', 'acc', 'unacc', 'unacc', 'acc', 'acc', 'acc', 'unacc', 'unacc', 'unacc', 'unacc', 'unacc', 'unacc', 'unacc', 'unacc', 'unacc', 'unacc', 'acc', 'acc', 'unacc', 'unacc', 'unacc', 'unacc', 'unacc', 'unacc', 'unacc', 'unacc', 'unacc', 'unacc', 'unacc', 'good', 'unacc', 'unacc', 'unacc', 'unacc', 'unacc', 'acc', 'unacc', 'unacc', 'unacc', 'unacc', 'unacc', 'unacc', 'acc', 'unacc', 'unacc', 'unacc', 'unacc', 'acc', 'unacc', 'unacc', 'acc', 'unacc', 'unacc', 'unacc', 'unacc', 'unacc', 'unacc', 'acc', 'acc', 'unacc', 'good', 'unacc', 'unacc', 'acc', 'good', 'unacc', 'acc', 'unacc', 'unacc', 'unacc', 'unacc', 'unacc', 'unacc', 'acc', 'unacc', 'good', 'acc', 'unacc', 'unacc', 'unacc', 'unacc', 'unacc', 'good', 'unacc', 'unacc', 'unacc', 'acc', 'acc', 'acc', 'unacc', 'unacc', 'unacc', 'unacc', 'unacc', 'good', 'unacc', 'unacc', 'unacc', 'unacc', 'unacc', 'unacc', 'acc', 'acc', 'unacc', 'unacc', 'unacc', 'acc', 'unacc', 'unacc', 'unacc', 'unacc', 'good', 'acc', 'unacc', 'acc', 'unacc', 'acc', 'acc', 'unacc', 'unacc', 'unacc', 'good', 'unacc', 'unacc', 'acc', 'unacc', 'unacc', 'unacc', 'unacc', 'unacc', 'unacc', 'unacc', 'unacc', 'unacc', 'unacc', 'unacc', 'acc', 'unacc', 'acc', 'unacc', 'unacc', 'unacc', 'acc', 'unacc', 'unacc', 'unacc', 'unacc', 'unacc', 'unacc', 'good', 'unacc', 'unacc', 'acc', 'unacc', 'unacc', 'unacc', 'unacc', 'unacc', 'unacc', 'acc', 'unacc', 'good', 'unacc', 'unacc', 'acc', 'unacc', 'unacc', 'acc', 'unacc', 'unacc', 'unacc', 'unacc', 'unacc', 'unacc', 'unacc', 'acc', 'unacc', 'unacc', 'unacc', 'acc', 'unacc', 'unacc', 'unacc', 'unacc', 'acc', 'unacc', 'unacc', 'unacc', 'unacc', 'unacc', 'unacc', 'unacc', 'unacc', 'acc', 'unacc', 'unacc', 'unacc', 'unacc', 'unacc', 'acc', 'acc', 'unacc', 'unacc', 'acc', 'unacc', 'unacc', 'unacc', 'unacc', 'unacc', 'acc', 'unacc', 'acc', 'unacc', 'unacc', 'good', 'unacc', 'unacc', 'unacc', 'acc']\n"
     ]
    }
   ],
   "source": [
    "# 3.3 Perceptron\n",
    "from Model_Code.Perceptron import Perceptron\n",
    "from sklearn.preprocessing import OneHotEncoder\n",
    "from sklearn.model_selection import train_test_split\n",
    "\n",
    "# use OneHotEncoder to encode data.\n",
    "enc = OneHotEncoder()\n",
    "enc.fit(x)\n",
    "x_encoder = pd.DataFrame(enc.transform(x).toarray())\n",
    "\n",
    "# use train_test_split to separate training set into training data and validation data.\n",
    "x_train, x_valid, y_train, y_valid_Perceptron = train_test_split(x_encoder, y, test_size = 0.3, random_state = 22)\n",
    "\n",
    "res_Perceptron = Perceptron(x_train.reset_index(drop = True),\\\n",
    "        y_train.reset_index(drop = True), x_valid.reset_index(drop = True), 0.2, 50)\n",
    "\n",
    "print(res_Perceptron)"
   ]
  },
  {
   "cell_type": "code",
   "execution_count": 25,
   "metadata": {},
   "outputs": [
    {
     "name": "stdout",
     "output_type": "stream",
     "text": [
      "-------Decision_Tree Model-------\n",
      "Training set score: 0.7970\n",
      "Test set score: 0.8321\n",
      "Done\n"
     ]
    },
    {
     "data": {
      "image/png": "[encoded data removed]",
      "text/plain": [
       "<Figure size 864x576 with 1 Axes>"
      ]
     },
     "metadata": {
      "needs_background": "light"
     },
     "output_type": "display_data"
    }
   ],
   "source": [
    "# 3.4 Decision Tree\n",
    "from Model_Code.DecisionTree import DecisionTree\n",
    "from sklearn.model_selection import train_test_split\n",
    "\n",
    "# spilt data into training data and validation set.\n",
    "x_train, x_valid, y_train, y_valid_DT = train_test_split(data.iloc[:, :-1], y, test_size = 0.3, random_state = 22)\n",
    "\n",
    "result = DecisionTree(x_train, x_valid, y_train, y_valid_DT)\n",
    "res_DT = result.get_result()"
   ]
  },
  {
   "cell_type": "code",
   "execution_count": 26,
   "metadata": {},
   "outputs": [
    {
     "name": "stdout",
     "output_type": "stream",
     "text": [
      "-------Logistic_Regression Model-------\n",
      "Done\n",
      "['unacc' 'unacc' 'unacc' 'unacc' 'acc' 'unacc' 'acc' 'acc' 'unacc' 'unacc'\n",
      " 'acc' 'acc' 'acc' 'acc' 'unacc' 'unacc' 'acc' 'unacc' 'unacc' 'good'\n",
      " 'unacc' 'unacc' 'unacc' 'unacc' 'unacc' 'unacc' 'acc' 'acc' 'acc' 'acc'\n",
      " 'unacc' 'unacc' 'unacc' 'unacc' 'acc' 'unacc' 'acc' 'acc' 'unacc' 'unacc'\n",
      " 'unacc' 'unacc' 'acc' 'acc' 'unacc' 'acc' 'acc' 'acc' 'unacc' 'acc'\n",
      " 'unacc' 'acc' 'unacc' 'unacc' 'unacc' 'acc' 'acc' 'unacc' 'acc' 'acc'\n",
      " 'acc' 'acc' 'unacc' 'acc' 'unacc' 'acc' 'unacc' 'unacc' 'unacc' 'unacc'\n",
      " 'unacc' 'acc' 'unacc' 'acc' 'unacc' 'good' 'unacc' 'unacc' 'acc' 'unacc'\n",
      " 'good' 'unacc' 'unacc' 'unacc' 'acc' 'acc' 'unacc' 'acc' 'acc' 'acc'\n",
      " 'acc' 'unacc' 'unacc' 'acc' 'acc' 'unacc' 'good' 'unacc' 'unacc' 'acc'\n",
      " 'acc' 'unacc' 'unacc' 'unacc' 'unacc' 'acc' 'acc' 'unacc' 'unacc' 'unacc'\n",
      " 'unacc' 'unacc' 'unacc' 'good' 'unacc' 'acc' 'unacc' 'unacc' 'unacc'\n",
      " 'unacc' 'unacc' 'unacc' 'unacc' 'unacc' 'unacc' 'acc' 'unacc' 'unacc'\n",
      " 'unacc' 'unacc' 'unacc' 'unacc' 'unacc' 'unacc' 'unacc' 'unacc' 'unacc'\n",
      " 'unacc' 'acc' 'acc' 'unacc' 'good' 'acc' 'unacc' 'unacc' 'unacc' 'unacc'\n",
      " 'unacc' 'acc' 'unacc' 'unacc' 'unacc' 'unacc' 'unacc' 'acc' 'unacc'\n",
      " 'unacc' 'unacc' 'unacc' 'unacc' 'unacc' 'unacc' 'unacc' 'unacc' 'acc'\n",
      " 'unacc' 'acc' 'acc' 'unacc' 'acc' 'unacc' 'acc' 'good' 'unacc' 'unacc'\n",
      " 'unacc' 'unacc' 'unacc' 'unacc' 'acc' 'acc' 'unacc' 'unacc' 'acc' 'acc'\n",
      " 'acc' 'unacc' 'unacc' 'unacc' 'unacc' 'unacc' 'unacc' 'unacc' 'unacc'\n",
      " 'unacc' 'unacc' 'acc' 'acc' 'unacc' 'unacc' 'unacc' 'unacc' 'unacc'\n",
      " 'unacc' 'unacc' 'unacc' 'unacc' 'unacc' 'unacc' 'good' 'unacc' 'unacc'\n",
      " 'acc' 'unacc' 'acc' 'good' 'unacc' 'unacc' 'unacc' 'unacc' 'unacc'\n",
      " 'unacc' 'acc' 'unacc' 'unacc' 'unacc' 'acc' 'acc' 'unacc' 'unacc' 'acc'\n",
      " 'unacc' 'unacc' 'unacc' 'unacc' 'unacc' 'unacc' 'acc' 'acc' 'unacc' 'acc'\n",
      " 'unacc' 'unacc' 'acc' 'acc' 'unacc' 'acc' 'unacc' 'unacc' 'unacc' 'unacc'\n",
      " 'unacc' 'unacc' 'acc' 'unacc' 'good' 'acc' 'unacc' 'unacc' 'acc' 'unacc'\n",
      " 'unacc' 'good' 'acc' 'unacc' 'acc' 'acc' 'acc' 'good' 'unacc' 'unacc'\n",
      " 'acc' 'unacc' 'unacc' 'good' 'unacc' 'unacc' 'unacc' 'unacc' 'acc'\n",
      " 'unacc' 'acc' 'acc' 'unacc' 'unacc' 'unacc' 'acc' 'unacc' 'unacc' 'acc'\n",
      " 'unacc' 'acc' 'acc' 'unacc' 'acc' 'unacc' 'acc' 'acc' 'unacc' 'unacc'\n",
      " 'unacc' 'acc' 'unacc' 'acc' 'acc' 'unacc' 'unacc' 'unacc' 'unacc' 'unacc'\n",
      " 'unacc' 'unacc' 'unacc' 'unacc' 'unacc' 'unacc' 'acc' 'unacc' 'acc'\n",
      " 'unacc' 'unacc' 'unacc' 'acc' 'unacc' 'unacc' 'unacc' 'unacc' 'unacc'\n",
      " 'unacc' 'acc' 'unacc' 'unacc' 'acc' 'unacc' 'unacc' 'unacc' 'unacc'\n",
      " 'unacc' 'unacc' 'acc' 'unacc' 'acc' 'unacc' 'unacc' 'acc' 'unacc' 'unacc'\n",
      " 'acc' 'unacc' 'acc' 'unacc' 'unacc' 'unacc' 'unacc' 'unacc' 'acc' 'unacc'\n",
      " 'unacc' 'unacc' 'acc' 'unacc' 'unacc' 'unacc' 'unacc' 'acc' 'unacc' 'acc'\n",
      " 'unacc' 'unacc' 'unacc' 'unacc' 'unacc' 'unacc' 'acc' 'acc' 'unacc'\n",
      " 'unacc' 'unacc' 'unacc' 'acc' 'acc' 'unacc' 'unacc' 'acc' 'unacc' 'unacc'\n",
      " 'unacc' 'unacc' 'unacc' 'acc' 'unacc' 'acc' 'unacc' 'unacc' 'good'\n",
      " 'unacc' 'unacc' 'unacc' 'acc']\n"
     ]
    },
    {
     "name": "stderr",
     "output_type": "stream",
     "text": [
      "/Users/wendywang/opt/anaconda3/lib/python3.9/site-packages/sklearn/linear_model/_sag.py:352: ConvergenceWarning: The max_iter was reached which means the coef_ did not converge\n",
      "  warnings.warn(\n"
     ]
    }
   ],
   "source": [
    "# 3.5 Logistic Regression\n",
    "from Model_Code.LogisticRegression import LogRegression\n",
    "\n",
    "lr = LogRegression(data, 'sag', 500,'ovr', 'balanced')\n",
    "y_valid_LR = lr.spilt_data()\n",
    "res_LR = lr.get_result()\n",
    "\n",
    "print(res_LR)"
   ]
  },
  {
   "cell_type": "code",
   "execution_count": 27,
   "metadata": {},
   "outputs": [
    {
     "name": "stdout",
     "output_type": "stream",
     "text": [
      "-----------SVM Model-----------\n",
      "-----------One VS One-----------\n",
      "\n",
      "['unacc' 'unacc' 'unacc' 'unacc' 'unacc' 'unacc' 'acc' 'acc' 'unacc'\n",
      " 'unacc' 'unacc' 'acc' 'acc' 'acc' 'unacc' 'unacc' 'acc' 'unacc' 'unacc'\n",
      " 'acc' 'unacc' 'unacc' 'unacc' 'unacc' 'unacc' 'unacc' 'unacc' 'acc' 'acc'\n",
      " 'acc' 'unacc' 'unacc' 'unacc' 'unacc' 'unacc' 'unacc' 'acc' 'unacc'\n",
      " 'unacc' 'unacc' 'unacc' 'unacc' 'unacc' 'unacc' 'unacc' 'acc' 'acc' 'acc'\n",
      " 'unacc' 'acc' 'unacc' 'acc' 'unacc' 'unacc' 'unacc' 'acc' 'unacc' 'unacc'\n",
      " 'unacc' 'good' 'acc' 'acc' 'unacc' 'good' 'unacc' 'acc' 'unacc' 'unacc'\n",
      " 'unacc' 'unacc' 'unacc' 'unacc' 'unacc' 'acc' 'unacc' 'good' 'unacc'\n",
      " 'unacc' 'acc' 'unacc' 'good' 'unacc' 'unacc' 'unacc' 'acc' 'acc' 'unacc'\n",
      " 'acc' 'acc' 'acc' 'acc' 'unacc' 'unacc' 'acc' 'acc' 'unacc' 'acc' 'unacc'\n",
      " 'unacc' 'acc' 'acc' 'unacc' 'unacc' 'unacc' 'unacc' 'acc' 'acc' 'unacc'\n",
      " 'unacc' 'unacc' 'unacc' 'unacc' 'unacc' 'good' 'unacc' 'good' 'unacc'\n",
      " 'unacc' 'unacc' 'unacc' 'unacc' 'unacc' 'unacc' 'unacc' 'unacc' 'acc'\n",
      " 'unacc' 'unacc' 'unacc' 'unacc' 'unacc' 'unacc' 'unacc' 'unacc' 'unacc'\n",
      " 'unacc' 'unacc' 'unacc' 'acc' 'acc' 'unacc' 'unacc' 'unacc' 'unacc'\n",
      " 'unacc' 'unacc' 'unacc' 'unacc' 'acc' 'unacc' 'unacc' 'unacc' 'unacc'\n",
      " 'unacc' 'acc' 'unacc' 'unacc' 'unacc' 'unacc' 'unacc' 'unacc' 'unacc'\n",
      " 'unacc' 'unacc' 'unacc' 'unacc' 'acc' 'acc' 'unacc' 'acc' 'unacc' 'unacc'\n",
      " 'good' 'unacc' 'unacc' 'unacc' 'unacc' 'unacc' 'unacc' 'acc' 'acc'\n",
      " 'unacc' 'unacc' 'acc' 'acc' 'acc' 'unacc' 'unacc' 'unacc' 'unacc' 'unacc'\n",
      " 'unacc' 'unacc' 'unacc' 'unacc' 'unacc' 'unacc' 'acc' 'unacc' 'unacc'\n",
      " 'unacc' 'unacc' 'unacc' 'unacc' 'unacc' 'unacc' 'unacc' 'unacc' 'unacc'\n",
      " 'good' 'unacc' 'unacc' 'acc' 'unacc' 'acc' 'acc' 'unacc' 'unacc' 'unacc'\n",
      " 'unacc' 'unacc' 'unacc' 'acc' 'unacc' 'unacc' 'unacc' 'acc' 'acc' 'unacc'\n",
      " 'unacc' 'acc' 'unacc' 'unacc' 'unacc' 'unacc' 'unacc' 'unacc' 'acc' 'acc'\n",
      " 'unacc' 'acc' 'unacc' 'unacc' 'acc' 'good' 'unacc' 'acc' 'unacc' 'unacc'\n",
      " 'unacc' 'unacc' 'unacc' 'unacc' 'acc' 'unacc' 'good' 'acc' 'unacc'\n",
      " 'unacc' 'unacc' 'unacc' 'unacc' 'acc' 'acc' 'unacc' 'acc' 'good' 'acc'\n",
      " 'acc' 'unacc' 'unacc' 'acc' 'unacc' 'unacc' 'good' 'unacc' 'unacc'\n",
      " 'unacc' 'unacc' 'acc' 'unacc' 'acc' 'acc' 'unacc' 'unacc' 'unacc' 'acc'\n",
      " 'unacc' 'unacc' 'acc' 'unacc' 'good' 'acc' 'unacc' 'acc' 'unacc' 'acc'\n",
      " 'acc' 'unacc' 'unacc' 'unacc' 'good' 'unacc' 'acc' 'acc' 'unacc' 'unacc'\n",
      " 'unacc' 'unacc' 'unacc' 'unacc' 'unacc' 'unacc' 'unacc' 'unacc' 'unacc'\n",
      " 'acc' 'unacc' 'acc' 'unacc' 'unacc' 'unacc' 'good' 'unacc' 'unacc'\n",
      " 'unacc' 'unacc' 'unacc' 'unacc' 'good' 'unacc' 'unacc' 'acc' 'unacc'\n",
      " 'unacc' 'unacc' 'unacc' 'unacc' 'unacc' 'acc' 'unacc' 'acc' 'unacc'\n",
      " 'unacc' 'acc' 'unacc' 'unacc' 'acc' 'unacc' 'unacc' 'unacc' 'unacc'\n",
      " 'unacc' 'unacc' 'unacc' 'acc' 'unacc' 'unacc' 'unacc' 'acc' 'unacc'\n",
      " 'unacc' 'unacc' 'unacc' 'acc' 'unacc' 'acc' 'unacc' 'unacc' 'unacc'\n",
      " 'unacc' 'unacc' 'unacc' 'acc' 'unacc' 'unacc' 'unacc' 'unacc' 'unacc'\n",
      " 'acc' 'acc' 'unacc' 'unacc' 'acc' 'unacc' 'unacc' 'unacc' 'unacc' 'unacc'\n",
      " 'unacc' 'unacc' 'acc' 'unacc' 'unacc' 'good' 'unacc' 'unacc' 'unacc'\n",
      " 'acc']\n",
      "-----------SVM Model-----------\n",
      "-----------One VS Rest-----------\n",
      "\n",
      "['unacc' 'unacc' 'unacc' 'unacc' 'unacc' 'unacc' 'acc' 'acc' 'unacc'\n",
      " 'unacc' 'unacc' 'acc' 'acc' 'acc' 'unacc' 'unacc' 'acc' 'unacc' 'unacc'\n",
      " 'good' 'unacc' 'unacc' 'unacc' 'unacc' 'unacc' 'unacc' 'unacc' 'acc'\n",
      " 'acc' 'acc' 'unacc' 'unacc' 'unacc' 'unacc' 'unacc' 'unacc' 'acc' 'acc'\n",
      " 'unacc' 'unacc' 'unacc' 'unacc' 'unacc' 'unacc' 'unacc' 'acc' 'acc' 'acc'\n",
      " 'unacc' 'acc' 'unacc' 'acc' 'unacc' 'unacc' 'unacc' 'acc' 'unacc' 'unacc'\n",
      " 'unacc' 'acc' 'acc' 'acc' 'unacc' 'good' 'unacc' 'acc' 'unacc' 'unacc'\n",
      " 'unacc' 'unacc' 'unacc' 'unacc' 'unacc' 'acc' 'unacc' 'good' 'unacc'\n",
      " 'unacc' 'acc' 'unacc' 'good' 'unacc' 'unacc' 'unacc' 'acc' 'acc' 'unacc'\n",
      " 'acc' 'acc' 'acc' 'acc' 'unacc' 'unacc' 'acc' 'acc' 'unacc' 'acc' 'unacc'\n",
      " 'unacc' 'acc' 'acc' 'unacc' 'unacc' 'unacc' 'unacc' 'acc' 'acc' 'unacc'\n",
      " 'unacc' 'unacc' 'unacc' 'unacc' 'unacc' 'good' 'unacc' 'good' 'unacc'\n",
      " 'unacc' 'unacc' 'unacc' 'unacc' 'unacc' 'unacc' 'unacc' 'unacc' 'acc'\n",
      " 'unacc' 'unacc' 'unacc' 'unacc' 'unacc' 'unacc' 'unacc' 'unacc' 'unacc'\n",
      " 'unacc' 'unacc' 'unacc' 'acc' 'acc' 'unacc' 'unacc' 'unacc' 'unacc'\n",
      " 'unacc' 'unacc' 'unacc' 'unacc' 'acc' 'unacc' 'unacc' 'unacc' 'unacc'\n",
      " 'unacc' 'acc' 'unacc' 'unacc' 'unacc' 'unacc' 'unacc' 'unacc' 'unacc'\n",
      " 'unacc' 'unacc' 'unacc' 'unacc' 'acc' 'acc' 'unacc' 'acc' 'unacc' 'unacc'\n",
      " 'good' 'unacc' 'unacc' 'unacc' 'unacc' 'unacc' 'unacc' 'acc' 'acc'\n",
      " 'unacc' 'unacc' 'acc' 'acc' 'acc' 'unacc' 'unacc' 'unacc' 'unacc' 'unacc'\n",
      " 'unacc' 'unacc' 'unacc' 'unacc' 'unacc' 'unacc' 'acc' 'unacc' 'unacc'\n",
      " 'unacc' 'unacc' 'unacc' 'unacc' 'unacc' 'unacc' 'unacc' 'unacc' 'unacc'\n",
      " 'good' 'unacc' 'unacc' 'acc' 'unacc' 'acc' 'acc' 'unacc' 'unacc' 'unacc'\n",
      " 'unacc' 'unacc' 'unacc' 'acc' 'unacc' 'unacc' 'unacc' 'acc' 'acc' 'unacc'\n",
      " 'unacc' 'acc' 'unacc' 'unacc' 'unacc' 'unacc' 'unacc' 'unacc' 'acc' 'acc'\n",
      " 'unacc' 'acc' 'unacc' 'unacc' 'acc' 'good' 'unacc' 'acc' 'unacc' 'unacc'\n",
      " 'unacc' 'unacc' 'unacc' 'unacc' 'acc' 'unacc' 'good' 'acc' 'unacc'\n",
      " 'unacc' 'acc' 'unacc' 'unacc' 'acc' 'acc' 'unacc' 'acc' 'acc' 'acc' 'acc'\n",
      " 'unacc' 'unacc' 'acc' 'unacc' 'unacc' 'good' 'unacc' 'unacc' 'unacc'\n",
      " 'unacc' 'acc' 'unacc' 'acc' 'acc' 'unacc' 'unacc' 'unacc' 'acc' 'unacc'\n",
      " 'unacc' 'acc' 'unacc' 'good' 'acc' 'unacc' 'acc' 'unacc' 'acc' 'acc'\n",
      " 'unacc' 'unacc' 'unacc' 'good' 'unacc' 'acc' 'acc' 'unacc' 'unacc'\n",
      " 'unacc' 'unacc' 'unacc' 'unacc' 'unacc' 'unacc' 'unacc' 'unacc' 'unacc'\n",
      " 'acc' 'unacc' 'acc' 'unacc' 'unacc' 'unacc' 'acc' 'unacc' 'unacc' 'unacc'\n",
      " 'unacc' 'unacc' 'unacc' 'good' 'unacc' 'unacc' 'acc' 'unacc' 'unacc'\n",
      " 'unacc' 'unacc' 'unacc' 'unacc' 'acc' 'unacc' 'acc' 'unacc' 'unacc' 'acc'\n",
      " 'unacc' 'unacc' 'acc' 'unacc' 'unacc' 'unacc' 'unacc' 'unacc' 'unacc'\n",
      " 'unacc' 'acc' 'unacc' 'unacc' 'unacc' 'acc' 'unacc' 'unacc' 'unacc'\n",
      " 'unacc' 'acc' 'unacc' 'acc' 'unacc' 'unacc' 'unacc' 'unacc' 'unacc'\n",
      " 'unacc' 'acc' 'unacc' 'unacc' 'unacc' 'unacc' 'unacc' 'acc' 'acc' 'unacc'\n",
      " 'unacc' 'acc' 'unacc' 'unacc' 'unacc' 'unacc' 'unacc' 'unacc' 'unacc'\n",
      " 'acc' 'unacc' 'unacc' 'good' 'unacc' 'unacc' 'unacc' 'acc']\n"
     ]
    }
   ],
   "source": [
    "# 3.6 SVM\n",
    "from Model_Code.SVM import SVM\n",
    "\n",
    "# as for strategy, the second parameter as input,\n",
    "# either 'OVO' or 'OVR'.\n",
    "s = SVM(data, 'OVO')\n",
    "res_SVM_OVO = np.array(s.get_result())\n",
    "y_valid_SVM_OVO = np.array(s.get_valid_y())\n",
    "print(res_SVM_OVO)\n",
    "\n",
    "s = SVM(data, 'OVR')\n",
    "res_SVM_OVR = np.array(s.get_result())\n",
    "y_valid_SVM_OVR = np.array(s.get_valid_y())\n",
    "print(res_SVM_OVR)\n"
   ]
  },
  {
   "cell_type": "code",
   "execution_count": 28,
   "metadata": {},
   "outputs": [
    {
     "name": "stdout",
     "output_type": "stream",
     "text": [
      "-----------GBDT Model-----------\n",
      "Done\n",
      "['unacc' 'unacc' 'unacc' 'unacc' 'unacc' 'unacc' 'acc' 'acc' 'unacc'\n",
      " 'unacc' 'unacc' 'acc' 'acc' 'acc' 'unacc' 'unacc' 'acc' 'unacc' 'unacc'\n",
      " 'acc' 'unacc' 'unacc' 'unacc' 'unacc' 'unacc' 'unacc' 'unacc' 'acc' 'acc'\n",
      " 'acc' 'unacc' 'unacc' 'unacc' 'unacc' 'unacc' 'unacc' 'acc' 'acc' 'unacc'\n",
      " 'unacc' 'unacc' 'unacc' 'unacc' 'unacc' 'unacc' 'acc' 'acc' 'acc' 'unacc'\n",
      " 'acc' 'unacc' 'acc' 'unacc' 'unacc' 'unacc' 'acc' 'unacc' 'unacc' 'unacc'\n",
      " 'good' 'acc' 'acc' 'unacc' 'good' 'unacc' 'acc' 'unacc' 'unacc' 'unacc'\n",
      " 'unacc' 'unacc' 'unacc' 'unacc' 'acc' 'unacc' 'good' 'unacc' 'unacc'\n",
      " 'acc' 'unacc' 'good' 'unacc' 'unacc' 'unacc' 'acc' 'acc' 'unacc' 'acc'\n",
      " 'acc' 'acc' 'acc' 'unacc' 'unacc' 'acc' 'acc' 'unacc' 'acc' 'unacc'\n",
      " 'unacc' 'acc' 'acc' 'unacc' 'unacc' 'unacc' 'unacc' 'acc' 'acc' 'unacc'\n",
      " 'unacc' 'unacc' 'unacc' 'unacc' 'unacc' 'good' 'unacc' 'good' 'unacc'\n",
      " 'unacc' 'unacc' 'unacc' 'unacc' 'unacc' 'unacc' 'unacc' 'unacc' 'acc'\n",
      " 'unacc' 'unacc' 'unacc' 'unacc' 'unacc' 'unacc' 'unacc' 'unacc' 'unacc'\n",
      " 'unacc' 'unacc' 'unacc' 'acc' 'acc' 'unacc' 'unacc' 'unacc' 'unacc'\n",
      " 'unacc' 'unacc' 'unacc' 'unacc' 'acc' 'unacc' 'unacc' 'unacc' 'unacc'\n",
      " 'unacc' 'acc' 'unacc' 'unacc' 'unacc' 'unacc' 'unacc' 'unacc' 'unacc'\n",
      " 'unacc' 'unacc' 'unacc' 'unacc' 'acc' 'acc' 'unacc' 'acc' 'unacc' 'unacc'\n",
      " 'good' 'unacc' 'unacc' 'unacc' 'unacc' 'unacc' 'unacc' 'acc' 'acc'\n",
      " 'unacc' 'unacc' 'acc' 'acc' 'acc' 'unacc' 'unacc' 'unacc' 'unacc' 'unacc'\n",
      " 'unacc' 'unacc' 'unacc' 'unacc' 'unacc' 'unacc' 'acc' 'unacc' 'unacc'\n",
      " 'unacc' 'unacc' 'unacc' 'unacc' 'unacc' 'unacc' 'unacc' 'unacc' 'unacc'\n",
      " 'acc' 'unacc' 'unacc' 'acc' 'unacc' 'acc' 'acc' 'unacc' 'unacc' 'unacc'\n",
      " 'unacc' 'unacc' 'unacc' 'acc' 'unacc' 'unacc' 'unacc' 'acc' 'acc' 'unacc'\n",
      " 'unacc' 'acc' 'unacc' 'unacc' 'unacc' 'unacc' 'unacc' 'unacc' 'acc' 'acc'\n",
      " 'unacc' 'acc' 'unacc' 'unacc' 'acc' 'good' 'unacc' 'acc' 'unacc' 'unacc'\n",
      " 'unacc' 'unacc' 'unacc' 'unacc' 'acc' 'unacc' 'good' 'acc' 'unacc'\n",
      " 'unacc' 'acc' 'unacc' 'unacc' 'acc' 'acc' 'unacc' 'acc' 'acc' 'acc' 'acc'\n",
      " 'unacc' 'unacc' 'acc' 'unacc' 'unacc' 'good' 'unacc' 'unacc' 'unacc'\n",
      " 'unacc' 'acc' 'unacc' 'acc' 'acc' 'unacc' 'unacc' 'unacc' 'acc' 'unacc'\n",
      " 'unacc' 'acc' 'unacc' 'good' 'acc' 'unacc' 'acc' 'unacc' 'acc' 'acc'\n",
      " 'unacc' 'unacc' 'unacc' 'good' 'unacc' 'acc' 'acc' 'unacc' 'unacc'\n",
      " 'unacc' 'unacc' 'unacc' 'unacc' 'unacc' 'unacc' 'unacc' 'unacc' 'unacc'\n",
      " 'acc' 'unacc' 'acc' 'unacc' 'unacc' 'unacc' 'acc' 'unacc' 'unacc' 'unacc'\n",
      " 'unacc' 'unacc' 'unacc' 'good' 'unacc' 'unacc' 'acc' 'unacc' 'unacc'\n",
      " 'unacc' 'unacc' 'unacc' 'unacc' 'acc' 'unacc' 'acc' 'unacc' 'unacc' 'acc'\n",
      " 'unacc' 'unacc' 'acc' 'unacc' 'unacc' 'unacc' 'unacc' 'unacc' 'unacc'\n",
      " 'unacc' 'acc' 'unacc' 'unacc' 'unacc' 'acc' 'unacc' 'unacc' 'unacc'\n",
      " 'unacc' 'acc' 'unacc' 'acc' 'unacc' 'unacc' 'unacc' 'unacc' 'unacc'\n",
      " 'unacc' 'acc' 'unacc' 'unacc' 'unacc' 'unacc' 'unacc' 'acc' 'acc' 'unacc'\n",
      " 'unacc' 'acc' 'unacc' 'unacc' 'unacc' 'unacc' 'unacc' 'acc' 'unacc' 'acc'\n",
      " 'unacc' 'unacc' 'good' 'unacc' 'unacc' 'unacc' 'acc']\n"
     ]
    }
   ],
   "source": [
    "# 3.7 GBDT\n",
    "from Model_Code.GBDT import GBDT\n",
    "\n",
    "# use train_test_split to separate training set into\n",
    "# training data and validation data.\n",
    "from sklearn.model_selection import train_test_split\n",
    "x_train, x_valid, y_train, y_valid_GBDT = train_test_split(x, y, test_size = 0.3, random_state = 22) \n",
    "\n",
    "gbdt = GBDT(x_train, x_valid, y_train)\n",
    "res_GBDT = gbdt.get_result()\n",
    "print(res_GBDT)"
   ]
  },
  {
   "cell_type": "code",
   "execution_count": 29,
   "metadata": {},
   "outputs": [
    {
     "name": "stdout",
     "output_type": "stream",
     "text": [
      "Best parameters: {'max_features': 6, 'n_estimators': 200}\n",
      "--------Random_Forest Model--------\n",
      "['unacc' 'unacc' 'unacc' 'unacc' 'unacc' 'unacc' 'acc' 'acc' 'unacc'\n",
      " 'unacc' 'unacc' 'acc' 'unacc' 'acc' 'unacc' 'unacc' 'acc' 'unacc' 'unacc'\n",
      " 'acc' 'unacc' 'unacc' 'unacc' 'unacc' 'unacc' 'unacc' 'unacc' 'acc' 'acc'\n",
      " 'acc' 'unacc' 'unacc' 'unacc' 'unacc' 'unacc' 'unacc' 'acc' 'acc' 'unacc'\n",
      " 'unacc' 'unacc' 'unacc' 'unacc' 'unacc' 'unacc' 'acc' 'acc' 'acc' 'unacc'\n",
      " 'acc' 'unacc' 'acc' 'unacc' 'unacc' 'unacc' 'acc' 'unacc' 'unacc' 'unacc'\n",
      " 'good' 'acc' 'acc' 'unacc' 'good' 'unacc' 'acc' 'unacc' 'unacc' 'unacc'\n",
      " 'unacc' 'unacc' 'unacc' 'unacc' 'acc' 'unacc' 'good' 'unacc' 'unacc'\n",
      " 'acc' 'unacc' 'good' 'unacc' 'unacc' 'unacc' 'acc' 'acc' 'unacc' 'acc'\n",
      " 'acc' 'acc' 'acc' 'unacc' 'unacc' 'acc' 'acc' 'unacc' 'acc' 'unacc'\n",
      " 'unacc' 'acc' 'acc' 'unacc' 'unacc' 'unacc' 'unacc' 'acc' 'acc' 'unacc'\n",
      " 'unacc' 'unacc' 'unacc' 'unacc' 'unacc' 'good' 'unacc' 'good' 'unacc'\n",
      " 'unacc' 'unacc' 'unacc' 'unacc' 'unacc' 'unacc' 'unacc' 'unacc' 'acc'\n",
      " 'unacc' 'unacc' 'unacc' 'unacc' 'unacc' 'unacc' 'unacc' 'unacc' 'unacc'\n",
      " 'unacc' 'unacc' 'unacc' 'acc' 'acc' 'unacc' 'unacc' 'unacc' 'unacc'\n",
      " 'unacc' 'unacc' 'unacc' 'unacc' 'acc' 'unacc' 'unacc' 'unacc' 'unacc'\n",
      " 'unacc' 'acc' 'unacc' 'unacc' 'unacc' 'unacc' 'unacc' 'unacc' 'unacc'\n",
      " 'unacc' 'unacc' 'unacc' 'unacc' 'acc' 'acc' 'unacc' 'acc' 'unacc' 'unacc'\n",
      " 'good' 'unacc' 'unacc' 'unacc' 'unacc' 'unacc' 'unacc' 'acc' 'acc'\n",
      " 'unacc' 'unacc' 'acc' 'acc' 'acc' 'unacc' 'unacc' 'unacc' 'unacc' 'unacc'\n",
      " 'unacc' 'unacc' 'unacc' 'unacc' 'unacc' 'unacc' 'acc' 'unacc' 'unacc'\n",
      " 'unacc' 'unacc' 'unacc' 'unacc' 'unacc' 'unacc' 'unacc' 'unacc' 'unacc'\n",
      " 'good' 'unacc' 'unacc' 'acc' 'unacc' 'acc' 'acc' 'unacc' 'unacc' 'unacc'\n",
      " 'unacc' 'unacc' 'unacc' 'acc' 'unacc' 'unacc' 'unacc' 'acc' 'acc' 'unacc'\n",
      " 'unacc' 'acc' 'unacc' 'unacc' 'unacc' 'unacc' 'unacc' 'unacc' 'acc' 'acc'\n",
      " 'unacc' 'acc' 'unacc' 'unacc' 'acc' 'good' 'unacc' 'acc' 'unacc' 'unacc'\n",
      " 'unacc' 'unacc' 'unacc' 'unacc' 'acc' 'unacc' 'good' 'acc' 'unacc'\n",
      " 'unacc' 'acc' 'unacc' 'unacc' 'acc' 'acc' 'unacc' 'acc' 'acc' 'acc' 'acc'\n",
      " 'unacc' 'unacc' 'acc' 'unacc' 'unacc' 'good' 'unacc' 'unacc' 'unacc'\n",
      " 'unacc' 'acc' 'unacc' 'acc' 'acc' 'unacc' 'unacc' 'unacc' 'acc' 'unacc'\n",
      " 'unacc' 'acc' 'unacc' 'good' 'acc' 'unacc' 'acc' 'unacc' 'acc' 'acc'\n",
      " 'unacc' 'unacc' 'unacc' 'good' 'unacc' 'unacc' 'acc' 'unacc' 'unacc'\n",
      " 'unacc' 'unacc' 'unacc' 'unacc' 'unacc' 'unacc' 'unacc' 'unacc' 'unacc'\n",
      " 'acc' 'unacc' 'acc' 'unacc' 'unacc' 'unacc' 'acc' 'unacc' 'unacc' 'unacc'\n",
      " 'unacc' 'unacc' 'unacc' 'good' 'unacc' 'unacc' 'acc' 'unacc' 'unacc'\n",
      " 'unacc' 'unacc' 'unacc' 'unacc' 'acc' 'unacc' 'acc' 'unacc' 'unacc' 'acc'\n",
      " 'unacc' 'unacc' 'acc' 'unacc' 'unacc' 'unacc' 'unacc' 'unacc' 'unacc'\n",
      " 'unacc' 'acc' 'unacc' 'unacc' 'unacc' 'acc' 'unacc' 'unacc' 'unacc'\n",
      " 'unacc' 'acc' 'unacc' 'acc' 'unacc' 'unacc' 'unacc' 'unacc' 'unacc'\n",
      " 'unacc' 'acc' 'unacc' 'unacc' 'unacc' 'unacc' 'unacc' 'acc' 'acc' 'unacc'\n",
      " 'unacc' 'acc' 'unacc' 'unacc' 'unacc' 'unacc' 'unacc' 'acc' 'unacc' 'acc'\n",
      " 'unacc' 'unacc' 'good' 'unacc' 'unacc' 'unacc' 'acc']\n",
      "Done\n"
     ]
    }
   ],
   "source": [
    "# 3.8 Random Forest\n",
    "from Model_Code.RandomForest import RandomForest\n",
    "\n",
    "# Make the label encoder\n",
    "rf = RandomForest(data)\n",
    "y_valid_RF = rf.get_valid_y()\n",
    "res_RF = np.array(rf.get_result())"
   ]
  },
  {
   "cell_type": "code",
   "execution_count": 30,
   "metadata": {},
   "outputs": [
    {
     "name": "stdout",
     "output_type": "stream",
     "text": [
      "--------XGBoost Model--------\n",
      "[19:37:56] WARNING: /Users/runner/work/xgboost/xgboost/python-package/build/temp.macosx-10.9-x86_64-cpython-38/xgboost/src/learner.cc:767: \n",
      "Parameters: { \"max_features\" } are not used.\n",
      "\n",
      "Done\n",
      "['unacc' 'unacc' 'unacc' 'unacc' 'unacc' 'unacc' 'acc' 'acc' 'unacc'\n",
      " 'unacc' 'unacc' 'acc' 'acc' 'acc' 'unacc' 'unacc' 'acc' 'unacc' 'unacc'\n",
      " 'good' 'unacc' 'unacc' 'unacc' 'unacc' 'unacc' 'unacc' 'unacc' 'acc'\n",
      " 'acc' 'acc' 'unacc' 'unacc' 'unacc' 'unacc' 'unacc' 'unacc' 'acc' 'unacc'\n",
      " 'unacc' 'unacc' 'unacc' 'unacc' 'unacc' 'unacc' 'unacc' 'acc' 'acc' 'acc'\n",
      " 'unacc' 'acc' 'unacc' 'acc' 'unacc' 'unacc' 'unacc' 'acc' 'unacc' 'unacc'\n",
      " 'unacc' 'good' 'acc' 'acc' 'unacc' 'good' 'unacc' 'acc' 'unacc' 'unacc'\n",
      " 'unacc' 'unacc' 'unacc' 'unacc' 'unacc' 'acc' 'unacc' 'good' 'unacc'\n",
      " 'unacc' 'acc' 'unacc' 'good' 'unacc' 'unacc' 'unacc' 'acc' 'acc' 'unacc'\n",
      " 'acc' 'acc' 'acc' 'acc' 'unacc' 'unacc' 'acc' 'acc' 'unacc' 'acc' 'unacc'\n",
      " 'unacc' 'acc' 'acc' 'unacc' 'unacc' 'unacc' 'unacc' 'acc' 'acc' 'unacc'\n",
      " 'unacc' 'unacc' 'unacc' 'unacc' 'unacc' 'good' 'unacc' 'good' 'unacc'\n",
      " 'unacc' 'unacc' 'unacc' 'unacc' 'unacc' 'unacc' 'unacc' 'unacc' 'acc'\n",
      " 'unacc' 'unacc' 'unacc' 'unacc' 'unacc' 'unacc' 'unacc' 'unacc' 'unacc'\n",
      " 'unacc' 'unacc' 'unacc' 'acc' 'acc' 'unacc' 'acc' 'unacc' 'unacc' 'unacc'\n",
      " 'unacc' 'unacc' 'unacc' 'unacc' 'unacc' 'unacc' 'unacc' 'unacc' 'unacc'\n",
      " 'acc' 'unacc' 'unacc' 'unacc' 'unacc' 'unacc' 'unacc' 'unacc' 'unacc'\n",
      " 'unacc' 'unacc' 'unacc' 'acc' 'acc' 'unacc' 'acc' 'unacc' 'unacc' 'good'\n",
      " 'unacc' 'unacc' 'unacc' 'unacc' 'unacc' 'unacc' 'acc' 'acc' 'unacc'\n",
      " 'unacc' 'acc' 'acc' 'acc' 'unacc' 'unacc' 'unacc' 'unacc' 'unacc' 'unacc'\n",
      " 'unacc' 'unacc' 'unacc' 'unacc' 'unacc' 'acc' 'unacc' 'unacc' 'unacc'\n",
      " 'unacc' 'unacc' 'unacc' 'unacc' 'unacc' 'unacc' 'unacc' 'unacc' 'good'\n",
      " 'unacc' 'unacc' 'acc' 'unacc' 'acc' 'acc' 'unacc' 'unacc' 'unacc' 'unacc'\n",
      " 'unacc' 'unacc' 'acc' 'unacc' 'unacc' 'unacc' 'acc' 'acc' 'unacc' 'unacc'\n",
      " 'acc' 'unacc' 'unacc' 'unacc' 'unacc' 'unacc' 'unacc' 'acc' 'acc' 'unacc'\n",
      " 'acc' 'unacc' 'unacc' 'acc' 'good' 'unacc' 'acc' 'unacc' 'unacc' 'unacc'\n",
      " 'unacc' 'unacc' 'unacc' 'acc' 'unacc' 'good' 'acc' 'unacc' 'unacc' 'acc'\n",
      " 'unacc' 'unacc' 'acc' 'acc' 'unacc' 'acc' 'acc' 'acc' 'acc' 'unacc'\n",
      " 'unacc' 'acc' 'unacc' 'unacc' 'good' 'unacc' 'unacc' 'unacc' 'unacc'\n",
      " 'acc' 'unacc' 'acc' 'acc' 'unacc' 'unacc' 'unacc' 'acc' 'unacc' 'unacc'\n",
      " 'acc' 'unacc' 'good' 'acc' 'unacc' 'acc' 'unacc' 'acc' 'acc' 'unacc'\n",
      " 'unacc' 'unacc' 'good' 'unacc' 'acc' 'acc' 'unacc' 'unacc' 'unacc'\n",
      " 'unacc' 'unacc' 'unacc' 'unacc' 'unacc' 'unacc' 'unacc' 'unacc' 'acc'\n",
      " 'unacc' 'acc' 'unacc' 'unacc' 'unacc' 'acc' 'unacc' 'unacc' 'unacc'\n",
      " 'unacc' 'unacc' 'unacc' 'good' 'unacc' 'unacc' 'acc' 'unacc' 'unacc'\n",
      " 'unacc' 'unacc' 'unacc' 'unacc' 'acc' 'unacc' 'acc' 'unacc' 'unacc' 'acc'\n",
      " 'unacc' 'unacc' 'acc' 'unacc' 'unacc' 'unacc' 'unacc' 'unacc' 'unacc'\n",
      " 'unacc' 'acc' 'unacc' 'unacc' 'unacc' 'acc' 'unacc' 'unacc' 'unacc'\n",
      " 'unacc' 'acc' 'unacc' 'acc' 'unacc' 'unacc' 'unacc' 'unacc' 'unacc'\n",
      " 'unacc' 'acc' 'unacc' 'unacc' 'unacc' 'unacc' 'unacc' 'acc' 'acc' 'unacc'\n",
      " 'unacc' 'acc' 'unacc' 'unacc' 'unacc' 'unacc' 'unacc' 'unacc' 'unacc'\n",
      " 'acc' 'unacc' 'unacc' 'good' 'unacc' 'unacc' 'unacc' 'acc']\n"
     ]
    }
   ],
   "source": [
    "# 3.9 XGBoost\n",
    "from Model_Code.XGBoost import XGBoost\n",
    "\n",
    "xgb = XGBoost(data)\n",
    "xgb.spilt_data()\n",
    "y_valid_XGBoost = np.array(xgb.get_valid_y())\n",
    "res_XGBoost = xgb.get_result()\n",
    "\n",
    "print(res_XGBoost)"
   ]
  },
  {
   "cell_type": "code",
   "execution_count": 31,
   "metadata": {},
   "outputs": [],
   "source": [
    "# 4 Model Validation"
   ]
  },
  {
   "cell_type": "code",
   "execution_count": 32,
   "metadata": {},
   "outputs": [],
   "source": [
    "# import score, used to calculate criteria of each model.\n",
    "from Model_Code.Score import Score"
   ]
  },
  {
   "cell_type": "code",
   "execution_count": 33,
   "metadata": {},
   "outputs": [
    {
     "name": "stdout",
     "output_type": "stream",
     "text": [
      "-------Confusion Matrix-------\n",
      "[[ 77   3  12]\n",
      " [  7   7   1]\n",
      " [  9   1 282]]\n"
     ]
    },
    {
     "data": {
      "image/png": "[encoded data removed]",
      "text/plain": [
       "<Figure size 432x288 with 2 Axes>"
      ]
     },
     "metadata": {
      "needs_background": "light"
     },
     "output_type": "display_data"
    },
    {
     "name": "stdout",
     "output_type": "stream",
     "text": [
      "\n",
      "----------Accuracy----------\n",
      "0.9172932330827067\n",
      "\n",
      "-----------Recall-----------\n",
      "Micro_Recall: 0.9172932330827067\n",
      "\n",
      "Macro_Recall: 0.7564588710211105\n",
      "\n",
      "Weighted_Recall: 0.9172932330827067\n",
      "\n",
      "-----------F-Score-----------\n",
      "Micro_F_Score: 0.9172932330827067\n",
      "\n",
      "Macro_F_Score: 0.7772372293667013\n",
      "\n",
      "Weighted_F_Score: 0.9153370433205456\n",
      "\n",
      "----------Precision----------\n",
      "Micro_Precision: 0.9172932330827067\n",
      "\n",
      "Macro_Precision: 0.8067509430002596\n",
      "\n",
      "Weighted_Precision: 0.9144102780602449\n",
      "\n"
     ]
    }
   ],
   "source": [
    "# 4.1 KNN\n",
    "s_KNN = Score(y_valid_KNN, res_KNN)\n",
    "s_KNN.calculate_all()"
   ]
  },
  {
   "cell_type": "code",
   "execution_count": 34,
   "metadata": {},
   "outputs": [
    {
     "name": "stdout",
     "output_type": "stream",
     "text": [
      "-------Confusion Matrix-------\n",
      "[[ 64   3  25]\n",
      " [ 11   4   0]\n",
      " [ 12   1 279]]\n"
     ]
    },
    {
     "data": {
      "image/png": "[encoded data removed]",
      "text/plain": [
       "<Figure size 432x288 with 2 Axes>"
      ]
     },
     "metadata": {
      "needs_background": "light"
     },
     "output_type": "display_data"
    },
    {
     "name": "stdout",
     "output_type": "stream",
     "text": [
      "\n",
      "----------Accuracy----------\n",
      "0.8696741854636592\n",
      "\n",
      "-----------Recall-----------\n",
      "Micro_Recall: 0.8696741854636592\n",
      "\n",
      "Macro_Recall: 0.6392660975448349\n",
      "\n",
      "Weighted_Recall: 0.8696741854636592\n",
      "\n",
      "-----------F-Score-----------\n",
      "Micro_F_Score: 0.8696741854636592\n",
      "\n",
      "Macro_F_Score: 0.6663838321924862\n",
      "\n",
      "Weighted_F_Score: 0.8631269452058271\n",
      "\n",
      "----------Precision----------\n",
      "Micro_Precision: 0.8696741854636592\n",
      "\n",
      "Macro_Precision: 0.7177984472675942\n",
      "\n",
      "Weighted_Precision: 0.8600626642225649\n",
      "\n"
     ]
    }
   ],
   "source": [
    "# 4.2 Bayes\n",
    "s_Bayes = Score(y_valid_Bayes, res_Bayes)\n",
    "s_Bayes.calculate_all()"
   ]
  },
  {
   "cell_type": "code",
   "execution_count": 35,
   "metadata": {},
   "outputs": [
    {
     "name": "stdout",
     "output_type": "stream",
     "text": [
      "-------Confusion Matrix-------\n",
      "[[ 80   3   9]\n",
      " [  3  12   0]\n",
      " [ 10   2 280]]\n"
     ]
    },
    {
     "data": {
      "image/png": "[encoded data removed]",
      "text/plain": [
       "<Figure size 432x288 with 2 Axes>"
      ]
     },
     "metadata": {
      "needs_background": "light"
     },
     "output_type": "display_data"
    },
    {
     "name": "stdout",
     "output_type": "stream",
     "text": [
      "\n",
      "----------Accuracy----------\n",
      "0.9323308270676691\n",
      "\n",
      "-----------Recall-----------\n",
      "Micro_Recall: 0.9323308270676691\n",
      "\n",
      "Macro_Recall: 0.8761564423267818\n",
      "\n",
      "Weighted_Recall: 0.9323308270676691\n",
      "\n",
      "-----------F-Score-----------\n",
      "Micro_F_Score: 0.9323308270676691\n",
      "\n",
      "Macro_F_Score: 0.8595734288505373\n",
      "\n",
      "Weighted_F_Score: 0.9329908538849566\n",
      "\n",
      "----------Precision----------\n",
      "Micro_Precision: 0.9323308270676691\n",
      "\n",
      "Macro_Precision: 0.8449851793975022\n",
      "\n",
      "Weighted_Precision: 0.9339212898115736\n",
      "\n"
     ]
    }
   ],
   "source": [
    "# 4.3 Perceptron\n",
    "s_Perceptron = Score(y_valid_Perceptron, res_Perceptron)\n",
    "s_Perceptron.calculate_all()"
   ]
  },
  {
   "cell_type": "code",
   "execution_count": 36,
   "metadata": {},
   "outputs": [
    {
     "name": "stdout",
     "output_type": "stream",
     "text": [
      "-------Confusion Matrix-------\n",
      "[[ 92   0   0]\n",
      " [ 15   0   0]\n",
      " [ 52   0 240]]\n"
     ]
    },
    {
     "data": {
      "image/png": "[encoded data removed]",
      "text/plain": [
       "<Figure size 432x288 with 2 Axes>"
      ]
     },
     "metadata": {
      "needs_background": "light"
     },
     "output_type": "display_data"
    },
    {
     "name": "stdout",
     "output_type": "stream",
     "text": [
      "\n",
      "----------Accuracy----------\n",
      "0.8320802005012531\n",
      "\n",
      "-----------Recall-----------\n",
      "Micro_Recall: 0.8320802005012531\n",
      "\n",
      "Macro_Recall: 0.6073059360730594\n",
      "\n",
      "Weighted_Recall: 0.8320802005012531\n",
      "\n",
      "-----------F-Score-----------\n",
      "Micro_F_Score: 0.8320802005012531\n",
      "\n",
      "Macro_F_Score: 0.5451077893938032\n",
      "\n",
      "Weighted_F_Score: 0.8293255080005978\n",
      "\n",
      "----------Precision----------\n",
      "Micro_Precision: 0.8320802005012531\n",
      "\n",
      "Macro_Precision: 0.5262054507337526\n",
      "\n",
      "Weighted_Precision: 0.8652448731892625\n",
      "\n"
     ]
    },
    {
     "name": "stderr",
     "output_type": "stream",
     "text": [
      "/Users/wendywang/opt/anaconda3/lib/python3.9/site-packages/sklearn/metrics/_classification.py:1318: UndefinedMetricWarning: Precision is ill-defined and being set to 0.0 in labels with no predicted samples. Use `zero_division` parameter to control this behavior.\n",
      "  _warn_prf(average, modifier, msg_start, len(result))\n",
      "/Users/wendywang/opt/anaconda3/lib/python3.9/site-packages/sklearn/metrics/_classification.py:1318: UndefinedMetricWarning: Precision is ill-defined and being set to 0.0 in labels with no predicted samples. Use `zero_division` parameter to control this behavior.\n",
      "  _warn_prf(average, modifier, msg_start, len(result))\n"
     ]
    }
   ],
   "source": [
    "# 4.4 Decision Tree\n",
    "s_DT = Score(y_valid_DT, res_DT)\n",
    "s_DT.calculate_all()"
   ]
  },
  {
   "cell_type": "code",
   "execution_count": 37,
   "metadata": {},
   "outputs": [
    {
     "name": "stdout",
     "output_type": "stream",
     "text": [
      "-------Confusion Matrix-------\n",
      "[[ 87   5   0]\n",
      " [  9   6   0]\n",
      " [ 23   3 266]]\n"
     ]
    },
    {
     "data": {
      "image/png": "[encoded data removed]",
      "text/plain": [
       "<Figure size 432x288 with 2 Axes>"
      ]
     },
     "metadata": {
      "needs_background": "light"
     },
     "output_type": "display_data"
    },
    {
     "name": "stdout",
     "output_type": "stream",
     "text": [
      "\n",
      "----------Accuracy----------\n",
      "0.899749373433584\n",
      "\n",
      "-----------Recall-----------\n",
      "Micro_Recall: 0.899749373433584\n",
      "\n",
      "Macro_Recall: 0.7522036926742107\n",
      "\n",
      "Weighted_Recall: 0.899749373433584\n",
      "\n",
      "-----------F-Score-----------\n",
      "Micro_F_Score: 0.899749373433584\n",
      "\n",
      "Macro_F_Score: 0.7306142237108185\n",
      "\n",
      "Weighted_F_Score: 0.903429725220296\n",
      "\n",
      "----------Precision----------\n",
      "Micro_Precision: 0.899749373433584\n",
      "\n",
      "Macro_Precision: 0.7198879551820728\n",
      "\n",
      "Weighted_Precision: 0.9165139740106568\n",
      "\n"
     ]
    }
   ],
   "source": [
    "# 4.5 Logistic Regression\n",
    "s_LR = Score(y_valid_LR, res_LR)\n",
    "s_LR.calculate_all()"
   ]
  },
  {
   "cell_type": "code",
   "execution_count": 38,
   "metadata": {},
   "outputs": [
    {
     "name": "stdout",
     "output_type": "stream",
     "text": [
      "-------Confusion Matrix-------\n",
      "[[ 92   0   0]\n",
      " [  0  15   0]\n",
      " [  5   2 285]]\n"
     ]
    },
    {
     "data": {
      "image/png": "[encoded data removed]",
      "text/plain": [
       "<Figure size 432x288 with 2 Axes>"
      ]
     },
     "metadata": {
      "needs_background": "light"
     },
     "output_type": "display_data"
    },
    {
     "name": "stdout",
     "output_type": "stream",
     "text": [
      "\n",
      "----------Accuracy----------\n",
      "0.9824561403508771\n",
      "\n",
      "-----------Recall-----------\n",
      "Micro_Recall: 0.9824561403508771\n",
      "\n",
      "Macro_Recall: 0.9920091324200913\n",
      "\n",
      "Weighted_Recall: 0.9824561403508771\n",
      "\n",
      "-----------F-Score-----------\n",
      "Micro_F_Score: 0.9824561403508771\n",
      "\n",
      "Macro_F_Score: 0.9663044192579143\n",
      "\n",
      "Weighted_F_Score: 0.9826721217066122\n",
      "\n",
      "----------Precision----------\n",
      "Micro_Precision: 0.9824561403508771\n",
      "\n",
      "Macro_Precision: 0.9436021831412976\n",
      "\n",
      "Weighted_Precision: 0.9836917946777192\n",
      "\n"
     ]
    }
   ],
   "source": [
    "# 4.6.1 SVM-OVO\n",
    "s_SVM_OVO = Score(y_valid_SVM_OVO, res_SVM_OVO)\n",
    "s_SVM_OVO.calculate_all()"
   ]
  },
  {
   "cell_type": "code",
   "execution_count": 39,
   "metadata": {},
   "outputs": [
    {
     "name": "stdout",
     "output_type": "stream",
     "text": [
      "-------Confusion Matrix-------\n",
      "[[ 91   1   0]\n",
      " [  3  12   0]\n",
      " [  7   2 283]]\n"
     ]
    },
    {
     "data": {
      "image/png": "[encoded data removed]",
      "text/plain": [
       "<Figure size 432x288 with 2 Axes>"
      ]
     },
     "metadata": {
      "needs_background": "light"
     },
     "output_type": "display_data"
    },
    {
     "name": "stdout",
     "output_type": "stream",
     "text": [
      "\n",
      "----------Accuracy----------\n",
      "0.9674185463659147\n",
      "\n",
      "-----------Recall-----------\n",
      "Micro_Recall: 0.9674185463659147\n",
      "\n",
      "Macro_Recall: 0.9194361723247965\n",
      "\n",
      "Weighted_Recall: 0.9674185463659147\n",
      "\n",
      "-----------F-Score-----------\n",
      "Micro_F_Score: 0.9674185463659147\n",
      "\n",
      "Macro_F_Score: 0.9091176691447022\n",
      "\n",
      "Weighted_F_Score: 0.9678848167953111\n",
      "\n",
      "----------Precision----------\n",
      "Micro_Precision: 0.9674185463659147\n",
      "\n",
      "Macro_Precision: 0.9003300330033004\n",
      "\n",
      "Weighted_Precision: 0.9696518524032854\n",
      "\n"
     ]
    }
   ],
   "source": [
    "s_SVM_OVR = Score(y_valid_SVM_OVR, res_SVM_OVR)\n",
    "s_SVM_OVR.calculate_all()"
   ]
  },
  {
   "cell_type": "code",
   "execution_count": 40,
   "metadata": {},
   "outputs": [
    {
     "name": "stdout",
     "output_type": "stream",
     "text": [
      "-------Confusion Matrix-------\n",
      "[[ 92   0   0]\n",
      " [  3  12   0]\n",
      " [  8   2 282]]\n"
     ]
    },
    {
     "data": {
      "image/png": "[encoded data removed]",
      "text/plain": [
       "<Figure size 432x288 with 2 Axes>"
      ]
     },
     "metadata": {
      "needs_background": "light"
     },
     "output_type": "display_data"
    },
    {
     "name": "stdout",
     "output_type": "stream",
     "text": [
      "\n",
      "----------Accuracy----------\n",
      "0.9674185463659147\n",
      "\n",
      "-----------Recall-----------\n",
      "Micro_Recall: 0.9674185463659147\n",
      "\n",
      "Macro_Recall: 0.921917808219178\n",
      "\n",
      "Weighted_Recall: 0.9674185463659147\n",
      "\n",
      "-----------F-Score-----------\n",
      "Micro_F_Score: 0.9674185463659147\n",
      "\n",
      "Macro_F_Score: 0.9179181158996129\n",
      "\n",
      "Weighted_F_Score: 0.9677617581447804\n",
      "\n",
      "----------Precision----------\n",
      "Micro_Precision: 0.9674185463659147\n",
      "\n",
      "Macro_Precision: 0.9167822468793343\n",
      "\n",
      "Weighted_Precision: 0.9700047622523715\n",
      "\n"
     ]
    }
   ],
   "source": [
    "# 4.7 GBDT\n",
    "s_GBDT = Score(y_valid_GBDT, res_GBDT)\n",
    "s_GBDT.calculate_all()"
   ]
  },
  {
   "cell_type": "code",
   "execution_count": 41,
   "metadata": {},
   "outputs": [
    {
     "name": "stdout",
     "output_type": "stream",
     "text": [
      "-------Confusion Matrix-------\n",
      "[[ 91   0   1]\n",
      " [  2  13   0]\n",
      " [  7   2 283]]\n"
     ]
    },
    {
     "data": {
      "image/png": "[encoded data removed]",
      "text/plain": [
       "<Figure size 432x288 with 2 Axes>"
      ]
     },
     "metadata": {
      "needs_background": "light"
     },
     "output_type": "display_data"
    },
    {
     "name": "stdout",
     "output_type": "stream",
     "text": [
      "\n",
      "----------Accuracy----------\n",
      "0.9699248120300752\n",
      "\n",
      "-----------Recall-----------\n",
      "Micro_Recall: 0.9699248120300752\n",
      "\n",
      "Macro_Recall: 0.9416583945470188\n",
      "\n",
      "Weighted_Recall: 0.9699248120300752\n",
      "\n",
      "-----------F-Score-----------\n",
      "Micro_F_Score: 0.9699248120300752\n",
      "\n",
      "Macro_F_Score: 0.9324074074074075\n",
      "\n",
      "Weighted_F_Score: 0.9702729044834308\n",
      "\n",
      "----------Precision----------\n",
      "Micro_Precision: 0.9699248120300752\n",
      "\n",
      "Macro_Precision: 0.9243818466353678\n",
      "\n",
      "Weighted_Precision: 0.9716587242754775\n",
      "\n"
     ]
    }
   ],
   "source": [
    "# 4.8 Random Forest\n",
    "s_RF = Score(y_valid_RF, res_RF)\n",
    "s_RF.calculate_all()"
   ]
  },
  {
   "cell_type": "code",
   "execution_count": 42,
   "metadata": {},
   "outputs": [
    {
     "name": "stdout",
     "output_type": "stream",
     "text": [
      "-------Confusion Matrix-------\n",
      "[[ 91   1   0]\n",
      " [  2  13   0]\n",
      " [  6   2 284]]\n"
     ]
    },
    {
     "data": {
      "image/png": "[encoded data removed]",
      "text/plain": [
       "<Figure size 432x288 with 2 Axes>"
      ]
     },
     "metadata": {
      "needs_background": "light"
     },
     "output_type": "display_data"
    },
    {
     "name": "stdout",
     "output_type": "stream",
     "text": [
      "\n",
      "----------Accuracy----------\n",
      "0.9724310776942355\n",
      "\n",
      "-----------Recall-----------\n",
      "Micro_Recall: 0.9724310776942355\n",
      "\n",
      "Macro_Recall: 0.9427999470584343\n",
      "\n",
      "Weighted_Recall: 0.9724310776942355\n",
      "\n",
      "-----------F-Score-----------\n",
      "Micro_F_Score: 0.9724310776942355\n",
      "\n",
      "Macro_F_Score: 0.9259001232274328\n",
      "\n",
      "Weighted_F_Score: 0.972907295919056\n",
      "\n",
      "----------Precision----------\n",
      "Micro_Precision: 0.9724310776942355\n",
      "\n",
      "Macro_Precision: 0.9105639730639731\n",
      "\n",
      "Weighted_Precision: 0.9743186881344776\n",
      "\n"
     ]
    }
   ],
   "source": [
    "# 4.9 XBGoost\n",
    "s_xgb = Score(y_valid_XGBoost, res_XGBoost)\n",
    "s_xgb.calculate_all()"
   ]
  },
  {
   "cell_type": "code",
   "execution_count": 43,
   "metadata": {},
   "outputs": [
    {
     "data": {
      "text/plain": [
       "0       unacc\n",
       "1       unacc\n",
       "2       unacc\n",
       "3       unacc\n",
       "4       unacc\n",
       "        ...  \n",
       "1325    unacc\n",
       "1326    unacc\n",
       "1327    unacc\n",
       "1328    unacc\n",
       "1329      acc\n",
       "Name: evaluation, Length: 1330, dtype: object"
      ]
     },
     "execution_count": 43,
     "metadata": {},
     "output_type": "execute_result"
    }
   ],
   "source": [
    "y"
   ]
  },
  {
   "cell_type": "code",
   "execution_count": 44,
   "metadata": {},
   "outputs": [
    {
     "name": "stdout",
     "output_type": "stream",
     "text": [
      "--------SVM 1 Fold--------\n",
      "-------Confusion Matrix-------\n",
      "[[ 63   0   2]\n",
      " [  0  12   0]\n",
      " [  0   0 189]]\n"
     ]
    },
    {
     "data": {
      "image/png": "[encoded data removed]",
      "text/plain": [
       "<Figure size 432x288 with 2 Axes>"
      ]
     },
     "metadata": {
      "needs_background": "light"
     },
     "output_type": "display_data"
    },
    {
     "name": "stdout",
     "output_type": "stream",
     "text": [
      "\n",
      "----------Accuracy----------\n",
      "0.9924812030075187\n",
      "\n",
      "-----------Recall-----------\n",
      "Micro_Recall: 0.9924812030075187\n",
      "\n",
      "Macro_Recall: 0.9897435897435898\n",
      "\n",
      "Weighted_Recall: 0.9924812030075187\n",
      "\n",
      "-----------F-Score-----------\n",
      "Micro_F_Score: 0.9924812030075187\n",
      "\n",
      "Macro_F_Score: 0.9930372807017545\n",
      "\n",
      "Weighted_F_Score: 0.9924422487138901\n",
      "\n",
      "----------Precision----------\n",
      "Micro_Precision: 0.9924812030075187\n",
      "\n",
      "Macro_Precision: 0.9965095986038395\n",
      "\n",
      "Weighted_Precision: 0.9925599338660789\n",
      "\n",
      "--------SVM 2 Fold--------\n",
      "-------Confusion Matrix-------\n",
      "[[ 54   2   0]\n",
      " [  0  12   0]\n",
      " [  0   0 198]]\n"
     ]
    },
    {
     "data": {
      "image/png": "[encoded data removed]",
      "text/plain": [
       "<Figure size 432x288 with 2 Axes>"
      ]
     },
     "metadata": {
      "needs_background": "light"
     },
     "output_type": "display_data"
    },
    {
     "name": "stdout",
     "output_type": "stream",
     "text": [
      "\n",
      "----------Accuracy----------\n",
      "0.9924812030075187\n",
      "\n",
      "-----------Recall-----------\n",
      "Micro_Recall: 0.9924812030075187\n",
      "\n",
      "Macro_Recall: 0.9880952380952381\n",
      "\n",
      "Weighted_Recall: 0.9924812030075187\n",
      "\n",
      "-----------F-Score-----------\n",
      "Micro_F_Score: 0.9924812030075187\n",
      "\n",
      "Macro_F_Score: 0.9682983682983682\n",
      "\n",
      "Weighted_F_Score: 0.9927020348072981\n",
      "\n",
      "----------Precision----------\n",
      "Micro_Precision: 0.9924812030075187\n",
      "\n",
      "Macro_Precision: 0.9523809523809524\n",
      "\n",
      "Weighted_Precision: 0.9935553168635876\n",
      "\n",
      "--------SVM 3 Fold--------\n",
      "-------Confusion Matrix-------\n",
      "[[ 67   0   0]\n",
      " [  2  11   0]\n",
      " [  0   1 185]]\n"
     ]
    },
    {
     "data": {
      "image/png": "[encoded data removed]",
      "text/plain": [
       "<Figure size 432x288 with 2 Axes>"
      ]
     },
     "metadata": {
      "needs_background": "light"
     },
     "output_type": "display_data"
    },
    {
     "name": "stdout",
     "output_type": "stream",
     "text": [
      "\n",
      "----------Accuracy----------\n",
      "0.9887218045112782\n",
      "\n",
      "-----------Recall-----------\n",
      "Micro_Recall: 0.9887218045112782\n",
      "\n",
      "Macro_Recall: 0.9469258340226082\n",
      "\n",
      "Weighted_Recall: 0.9887218045112782\n",
      "\n",
      "-----------F-Score-----------\n",
      "Micro_F_Score: 0.9887218045112782\n",
      "\n",
      "Macro_F_Score: 0.9541995666191004\n",
      "\n",
      "Weighted_F_Score: 0.9885464592987145\n",
      "\n",
      "----------Precision----------\n",
      "Micro_Precision: 0.9887218045112782\n",
      "\n",
      "Macro_Precision: 0.96256038647343\n",
      "\n",
      "Weighted_Precision: 0.9886264574479678\n",
      "\n",
      "--------SVM 4 Fold--------\n",
      "-------Confusion Matrix-------\n",
      "[[ 49   1   0]\n",
      " [  0   9   0]\n",
      " [  0   0 207]]\n"
     ]
    },
    {
     "data": {
      "image/png": "[encoded data removed]",
      "text/plain": [
       "<Figure size 432x288 with 2 Axes>"
      ]
     },
     "metadata": {
      "needs_background": "light"
     },
     "output_type": "display_data"
    },
    {
     "name": "stdout",
     "output_type": "stream",
     "text": [
      "\n",
      "----------Accuracy----------\n",
      "0.9962406015037594\n",
      "\n",
      "-----------Recall-----------\n",
      "Micro_Recall: 0.9962406015037594\n",
      "\n",
      "Macro_Recall: 0.9933333333333333\n",
      "\n",
      "Weighted_Recall: 0.9962406015037594\n",
      "\n",
      "-----------F-Score-----------\n",
      "Micro_F_Score: 0.9962406015037594\n",
      "\n",
      "Macro_F_Score: 0.9790891369838738\n",
      "\n",
      "Weighted_F_Score: 0.996320546182042\n",
      "\n",
      "----------Precision----------\n",
      "Micro_Precision: 0.9962406015037594\n",
      "\n",
      "Macro_Precision: 0.9666666666666667\n",
      "\n",
      "Weighted_Precision: 0.9966165413533835\n",
      "\n",
      "--------SVM 5 Fold--------\n",
      "-------Confusion Matrix-------\n",
      "[[ 67   2   0]\n",
      " [  0   9   0]\n",
      " [  0   0 188]]\n"
     ]
    },
    {
     "data": {
      "image/png": "[encoded data removed]",
      "text/plain": [
       "<Figure size 432x288 with 2 Axes>"
      ]
     },
     "metadata": {
      "needs_background": "light"
     },
     "output_type": "display_data"
    },
    {
     "name": "stdout",
     "output_type": "stream",
     "text": [
      "\n",
      "----------Accuracy----------\n",
      "0.9924812030075187\n",
      "\n",
      "-----------Recall-----------\n",
      "Micro_Recall: 0.9924812030075187\n",
      "\n",
      "Macro_Recall: 0.9903381642512077\n",
      "\n",
      "Weighted_Recall: 0.9924812030075187\n",
      "\n",
      "-----------F-Score-----------\n",
      "Micro_F_Score: 0.9924812030075187\n",
      "\n",
      "Macro_F_Score: 0.961764705882353\n",
      "\n",
      "Weighted_F_Score: 0.9928018575851393\n",
      "\n",
      "----------Precision----------\n",
      "Micro_Precision: 0.9924812030075187\n",
      "\n",
      "Macro_Precision: 0.9393939393939394\n",
      "\n",
      "Weighted_Precision: 0.9938482570061518\n",
      "\n"
     ]
    }
   ],
   "source": [
    "# 5 SVM K-Fold Cross Validation.\n",
    "from sklearn.model_selection import KFold\n",
    "\n",
    "kf = KFold(n_splits = 5)\n",
    "for k, (train_index, valid_index) in enumerate(kf.split(data)):\n",
    "    \n",
    "    svm_cv = SVM(data, 'OVO')\n",
    "    x = svm_cv.encode_data()\n",
    "    x_train, x_valid, y_train, y_valid = x.values[train_index], x.values[valid_index],\\\n",
    "            y[train_index], list(y[valid_index])\n",
    "\n",
    "    clt = svm_cv.svm_OneVsOne_fit(x_train, y_train)\n",
    "    y_pred = svm_cv.predict(clt, x_valid)\n",
    "    \n",
    "    print('--------SVM {} Fold--------'.format(k + 1))\n",
    "    Score(y_valid, y_pred).calculate_all()"
   ]
  },
  {
   "cell_type": "code",
   "execution_count": 61,
   "metadata": {},
   "outputs": [
    {
     "name": "stdout",
     "output_type": "stream",
     "text": [
      "-----------SVM Model-----------\n",
      "         0\n",
      "0    unacc\n",
      "1    unacc\n",
      "2    unacc\n",
      "3    unacc\n",
      "4    unacc\n",
      "..     ...\n",
      "328  unacc\n",
      "329  unacc\n",
      "330    acc\n",
      "331  unacc\n",
      "332  unacc\n",
      "\n",
      "[333 rows x 1 columns]\n"
     ]
    }
   ],
   "source": [
    "# Prediction & Conclusion\n",
    "# here, use SVM Model with OVO mode to do prediction.\n",
    "import numpy as np\n",
    "import pandas as pd\n",
    "from Model_Code.SVM import SVM\n",
    "\n",
    "data = pd.read_csv('Dataset/training.csv')\n",
    "x_test = pd.read_csv('Dataset/test.csv')\n",
    "x = data.drop(['evaluation'], axis = 1)\n",
    "y = data['evaluation']\n",
    "\n",
    "print('-----------SVM Model-----------')\n",
    "# create SVM object.\n",
    "# here, use whole training data to fit model.\n",
    "s_pred = SVM(data, 'OVO')\n",
    "# encode both training and testing data.\n",
    "x = s_pred.encode_data()\n",
    "# using OneHotEncoder to encode test data.\n",
    "enc = OneHotEncoder()\n",
    "enc.fit(x_test)\n",
    "x_test_encoder = pd.DataFrame(enc.transform(x_test).toarray())\n",
    "# fit SVM model.\n",
    "clf = s_pred.svm_OneVsOne_fit(x, y)\n",
    "# predict result.\n",
    "y_test_pred = pd.DataFrame(s_pred.predict(clf, x_test_encoder))\n",
    "print(y_test_pred)"
   ]
  },
  {
   "cell_type": "code",
   "execution_count": 67,
   "metadata": {},
   "outputs": [],
   "source": [
    "# save the result into csv file.\n",
    "data_test_pred = pd.concat([x_test, y_test_pred], axis = 1)\n",
    "# modify column name of y.\n",
    "data_test_pred = data_test_pred.rename(columns = {0: 'evaluation'})\n",
    "# save it into test.csv file.\n",
    "data_test_pred.to_csv('Dataset/test_<SVM>.csv', index = False)"
   ]
  },
  {
   "cell_type": "code",
   "execution_count": null,
   "metadata": {},
   "outputs": [],
   "source": []
  }
 ],
 "metadata": {
  "kernelspec": {
   "display_name": "Python 3.9.12 ('base')",
   "language": "python",
   "name": "python3"
  },
  "language_info": {
   "codemirror_mode": {
    "name": "ipython",
    "version": 3
   },
   "file_extension": ".py",
   "mimetype": "text/x-python",
   "name": "python",
   "nbconvert_exporter": "python",
   "pygments_lexer": "ipython3",
   "version": "3.9.12"
  },
  "orig_nbformat": 4,
  "vscode": {
   "interpreter": {
    "hash": "719d45e38b6b35dce474b00597395544d0fa9e2eb71949a83c153289e71e7b5f"
   }
  }
 },
 "nbformat": 4,
 "nbformat_minor": 2
}
